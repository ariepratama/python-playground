{
 "cells": [
  {
   "cell_type": "markdown",
   "metadata": {},
   "source": [
    "References:\n",
    "* https://www.kaggle.com/datasets/kartikeybartwal/ecommerce-product-recommendation-collaborative\n",
    "* https://en.wikipedia.org/wiki/Collaborative_filtering"
   ]
  },
  {
   "cell_type": "code",
   "execution_count": 1,
   "metadata": {},
   "outputs": [
    {
     "name": "stdout",
     "output_type": "stream",
     "text": [
      "Path to dataset files: /Users/arie/.cache/kagglehub/datasets/kartikeybartwal/ecommerce-product-recommendation-collaborative/versions/1\n"
     ]
    }
   ],
   "source": [
    "import kagglehub\n",
    "\n",
    "# Download latest version\n",
    "path = kagglehub.dataset_download(\"kartikeybartwal/ecommerce-product-recommendation-collaborative\")\n",
    "\n",
    "print(\"Path to dataset files:\", path)"
   ]
  },
  {
   "cell_type": "code",
   "execution_count": 79,
   "metadata": {},
   "outputs": [],
   "source": [
    "import pandas as pd\n",
    "import seaborn as sns\n",
    "from sklearn.preprocessing import OrdinalEncoder\n",
    "from sklearn.metrics.pairwise import cosine_similarity\n",
    "from sklearn.preprocessing import minmax_scale"
   ]
  },
  {
   "cell_type": "code",
   "execution_count": 3,
   "metadata": {},
   "outputs": [
    {
     "data": {
      "text/html": [
       "<div>\n",
       "<style scoped>\n",
       "    .dataframe tbody tr th:only-of-type {\n",
       "        vertical-align: middle;\n",
       "    }\n",
       "\n",
       "    .dataframe tbody tr th {\n",
       "        vertical-align: top;\n",
       "    }\n",
       "\n",
       "    .dataframe thead th {\n",
       "        text-align: right;\n",
       "    }\n",
       "</style>\n",
       "<table border=\"1\" class=\"dataframe\">\n",
       "  <thead>\n",
       "    <tr style=\"text-align: right;\">\n",
       "      <th></th>\n",
       "      <th>Unnamed: 0</th>\n",
       "      <th>User_ID</th>\n",
       "      <th>Age</th>\n",
       "      <th>Gender</th>\n",
       "      <th>Location</th>\n",
       "      <th>Income</th>\n",
       "      <th>Interests</th>\n",
       "      <th>Last_Login_Days_Ago</th>\n",
       "      <th>Purchase_Frequency</th>\n",
       "      <th>Average_Order_Value</th>\n",
       "      <th>Total_Spending</th>\n",
       "      <th>Product_Category_Preference</th>\n",
       "      <th>Time_Spent_on_Site_Minutes</th>\n",
       "      <th>Pages_Viewed</th>\n",
       "      <th>Newsletter_Subscription</th>\n",
       "    </tr>\n",
       "  </thead>\n",
       "  <tbody>\n",
       "    <tr>\n",
       "      <th>0</th>\n",
       "      <td>0</td>\n",
       "      <td>#1</td>\n",
       "      <td>56</td>\n",
       "      <td>Male</td>\n",
       "      <td>Suburban</td>\n",
       "      <td>38037</td>\n",
       "      <td>Sports</td>\n",
       "      <td>5</td>\n",
       "      <td>7</td>\n",
       "      <td>18</td>\n",
       "      <td>2546</td>\n",
       "      <td>Books</td>\n",
       "      <td>584</td>\n",
       "      <td>38</td>\n",
       "      <td>True</td>\n",
       "    </tr>\n",
       "    <tr>\n",
       "      <th>1</th>\n",
       "      <td>1</td>\n",
       "      <td>#2</td>\n",
       "      <td>46</td>\n",
       "      <td>Female</td>\n",
       "      <td>Rural</td>\n",
       "      <td>103986</td>\n",
       "      <td>Technology</td>\n",
       "      <td>15</td>\n",
       "      <td>7</td>\n",
       "      <td>118</td>\n",
       "      <td>320</td>\n",
       "      <td>Electronics</td>\n",
       "      <td>432</td>\n",
       "      <td>40</td>\n",
       "      <td>False</td>\n",
       "    </tr>\n",
       "    <tr>\n",
       "      <th>2</th>\n",
       "      <td>2</td>\n",
       "      <td>#3</td>\n",
       "      <td>32</td>\n",
       "      <td>Female</td>\n",
       "      <td>Suburban</td>\n",
       "      <td>101942</td>\n",
       "      <td>Sports</td>\n",
       "      <td>28</td>\n",
       "      <td>1</td>\n",
       "      <td>146</td>\n",
       "      <td>3766</td>\n",
       "      <td>Apparel</td>\n",
       "      <td>306</td>\n",
       "      <td>1</td>\n",
       "      <td>True</td>\n",
       "    </tr>\n",
       "    <tr>\n",
       "      <th>3</th>\n",
       "      <td>3</td>\n",
       "      <td>#4</td>\n",
       "      <td>60</td>\n",
       "      <td>Female</td>\n",
       "      <td>Suburban</td>\n",
       "      <td>71612</td>\n",
       "      <td>Fashion</td>\n",
       "      <td>18</td>\n",
       "      <td>3</td>\n",
       "      <td>163</td>\n",
       "      <td>4377</td>\n",
       "      <td>Apparel</td>\n",
       "      <td>527</td>\n",
       "      <td>29</td>\n",
       "      <td>False</td>\n",
       "    </tr>\n",
       "    <tr>\n",
       "      <th>4</th>\n",
       "      <td>4</td>\n",
       "      <td>#5</td>\n",
       "      <td>25</td>\n",
       "      <td>Male</td>\n",
       "      <td>Suburban</td>\n",
       "      <td>49725</td>\n",
       "      <td>Travel</td>\n",
       "      <td>2</td>\n",
       "      <td>5</td>\n",
       "      <td>141</td>\n",
       "      <td>4502</td>\n",
       "      <td>Health &amp; Beauty</td>\n",
       "      <td>53</td>\n",
       "      <td>10</td>\n",
       "      <td>True</td>\n",
       "    </tr>\n",
       "  </tbody>\n",
       "</table>\n",
       "</div>"
      ],
      "text/plain": [
       "   Unnamed: 0 User_ID  Age  Gender  Location  Income   Interests  \\\n",
       "0           0      #1   56    Male  Suburban   38037      Sports   \n",
       "1           1      #2   46  Female     Rural  103986  Technology   \n",
       "2           2      #3   32  Female  Suburban  101942      Sports   \n",
       "3           3      #4   60  Female  Suburban   71612     Fashion   \n",
       "4           4      #5   25    Male  Suburban   49725      Travel   \n",
       "\n",
       "   Last_Login_Days_Ago  Purchase_Frequency  Average_Order_Value  \\\n",
       "0                    5                   7                   18   \n",
       "1                   15                   7                  118   \n",
       "2                   28                   1                  146   \n",
       "3                   18                   3                  163   \n",
       "4                    2                   5                  141   \n",
       "\n",
       "   Total_Spending Product_Category_Preference  Time_Spent_on_Site_Minutes  \\\n",
       "0            2546                       Books                         584   \n",
       "1             320                 Electronics                         432   \n",
       "2            3766                     Apparel                         306   \n",
       "3            4377                     Apparel                         527   \n",
       "4            4502             Health & Beauty                          53   \n",
       "\n",
       "   Pages_Viewed  Newsletter_Subscription  \n",
       "0            38                     True  \n",
       "1            40                    False  \n",
       "2             1                     True  \n",
       "3            29                    False  \n",
       "4            10                     True  "
      ]
     },
     "execution_count": 3,
     "metadata": {},
     "output_type": "execute_result"
    }
   ],
   "source": [
    "data = pd.read_csv(f\"{path}/user_personalized_features.csv\")\n",
    "data.head()"
   ]
  },
  {
   "cell_type": "code",
   "execution_count": 5,
   "metadata": {},
   "outputs": [],
   "source": [
    "# sns.pairplot(data[data.columns[2:]])"
   ]
  },
  {
   "cell_type": "code",
   "execution_count": 7,
   "metadata": {},
   "outputs": [],
   "source": [
    "features = data.loc[:, [\"User_ID\", \"Age\", \"Gender\", \"Location\", \"Income\", \"Interests\", \"Average_Order_Value\", \"Total_Spending\"]]"
   ]
  },
  {
   "cell_type": "code",
   "execution_count": 8,
   "metadata": {},
   "outputs": [
    {
     "data": {
      "text/html": [
       "<div>\n",
       "<style scoped>\n",
       "    .dataframe tbody tr th:only-of-type {\n",
       "        vertical-align: middle;\n",
       "    }\n",
       "\n",
       "    .dataframe tbody tr th {\n",
       "        vertical-align: top;\n",
       "    }\n",
       "\n",
       "    .dataframe thead th {\n",
       "        text-align: right;\n",
       "    }\n",
       "</style>\n",
       "<table border=\"1\" class=\"dataframe\">\n",
       "  <thead>\n",
       "    <tr style=\"text-align: right;\">\n",
       "      <th></th>\n",
       "      <th>User_ID</th>\n",
       "      <th>Age</th>\n",
       "      <th>Gender</th>\n",
       "      <th>Location</th>\n",
       "      <th>Income</th>\n",
       "      <th>Interests</th>\n",
       "      <th>Average_Order_Value</th>\n",
       "      <th>Total_Spending</th>\n",
       "    </tr>\n",
       "  </thead>\n",
       "  <tbody>\n",
       "    <tr>\n",
       "      <th>0</th>\n",
       "      <td>#1</td>\n",
       "      <td>56</td>\n",
       "      <td>Male</td>\n",
       "      <td>Suburban</td>\n",
       "      <td>38037</td>\n",
       "      <td>Sports</td>\n",
       "      <td>18</td>\n",
       "      <td>2546</td>\n",
       "    </tr>\n",
       "    <tr>\n",
       "      <th>1</th>\n",
       "      <td>#2</td>\n",
       "      <td>46</td>\n",
       "      <td>Female</td>\n",
       "      <td>Rural</td>\n",
       "      <td>103986</td>\n",
       "      <td>Technology</td>\n",
       "      <td>118</td>\n",
       "      <td>320</td>\n",
       "    </tr>\n",
       "    <tr>\n",
       "      <th>2</th>\n",
       "      <td>#3</td>\n",
       "      <td>32</td>\n",
       "      <td>Female</td>\n",
       "      <td>Suburban</td>\n",
       "      <td>101942</td>\n",
       "      <td>Sports</td>\n",
       "      <td>146</td>\n",
       "      <td>3766</td>\n",
       "    </tr>\n",
       "    <tr>\n",
       "      <th>3</th>\n",
       "      <td>#4</td>\n",
       "      <td>60</td>\n",
       "      <td>Female</td>\n",
       "      <td>Suburban</td>\n",
       "      <td>71612</td>\n",
       "      <td>Fashion</td>\n",
       "      <td>163</td>\n",
       "      <td>4377</td>\n",
       "    </tr>\n",
       "    <tr>\n",
       "      <th>4</th>\n",
       "      <td>#5</td>\n",
       "      <td>25</td>\n",
       "      <td>Male</td>\n",
       "      <td>Suburban</td>\n",
       "      <td>49725</td>\n",
       "      <td>Travel</td>\n",
       "      <td>141</td>\n",
       "      <td>4502</td>\n",
       "    </tr>\n",
       "    <tr>\n",
       "      <th>...</th>\n",
       "      <td>...</td>\n",
       "      <td>...</td>\n",
       "      <td>...</td>\n",
       "      <td>...</td>\n",
       "      <td>...</td>\n",
       "      <td>...</td>\n",
       "      <td>...</td>\n",
       "      <td>...</td>\n",
       "    </tr>\n",
       "    <tr>\n",
       "      <th>995</th>\n",
       "      <td>#996</td>\n",
       "      <td>22</td>\n",
       "      <td>Male</td>\n",
       "      <td>Urban</td>\n",
       "      <td>104162</td>\n",
       "      <td>Technology</td>\n",
       "      <td>83</td>\n",
       "      <td>607</td>\n",
       "    </tr>\n",
       "    <tr>\n",
       "      <th>996</th>\n",
       "      <td>#997</td>\n",
       "      <td>40</td>\n",
       "      <td>Male</td>\n",
       "      <td>Urban</td>\n",
       "      <td>99003</td>\n",
       "      <td>Travel</td>\n",
       "      <td>180</td>\n",
       "      <td>431</td>\n",
       "    </tr>\n",
       "    <tr>\n",
       "      <th>997</th>\n",
       "      <td>#998</td>\n",
       "      <td>27</td>\n",
       "      <td>Female</td>\n",
       "      <td>Urban</td>\n",
       "      <td>72395</td>\n",
       "      <td>Technology</td>\n",
       "      <td>130</td>\n",
       "      <td>650</td>\n",
       "    </tr>\n",
       "    <tr>\n",
       "      <th>998</th>\n",
       "      <td>#999</td>\n",
       "      <td>61</td>\n",
       "      <td>Male</td>\n",
       "      <td>Rural</td>\n",
       "      <td>59758</td>\n",
       "      <td>Travel</td>\n",
       "      <td>152</td>\n",
       "      <td>1041</td>\n",
       "    </tr>\n",
       "    <tr>\n",
       "      <th>999</th>\n",
       "      <td>#1000</td>\n",
       "      <td>19</td>\n",
       "      <td>Male</td>\n",
       "      <td>Rural</td>\n",
       "      <td>74312</td>\n",
       "      <td>Sports</td>\n",
       "      <td>175</td>\n",
       "      <td>827</td>\n",
       "    </tr>\n",
       "  </tbody>\n",
       "</table>\n",
       "<p>1000 rows × 8 columns</p>\n",
       "</div>"
      ],
      "text/plain": [
       "    User_ID  Age  Gender  Location  Income   Interests  Average_Order_Value  \\\n",
       "0        #1   56    Male  Suburban   38037      Sports                   18   \n",
       "1        #2   46  Female     Rural  103986  Technology                  118   \n",
       "2        #3   32  Female  Suburban  101942      Sports                  146   \n",
       "3        #4   60  Female  Suburban   71612     Fashion                  163   \n",
       "4        #5   25    Male  Suburban   49725      Travel                  141   \n",
       "..      ...  ...     ...       ...     ...         ...                  ...   \n",
       "995    #996   22    Male     Urban  104162  Technology                   83   \n",
       "996    #997   40    Male     Urban   99003      Travel                  180   \n",
       "997    #998   27  Female     Urban   72395  Technology                  130   \n",
       "998    #999   61    Male     Rural   59758      Travel                  152   \n",
       "999   #1000   19    Male     Rural   74312      Sports                  175   \n",
       "\n",
       "     Total_Spending  \n",
       "0              2546  \n",
       "1               320  \n",
       "2              3766  \n",
       "3              4377  \n",
       "4              4502  \n",
       "..              ...  \n",
       "995             607  \n",
       "996             431  \n",
       "997             650  \n",
       "998            1041  \n",
       "999             827  \n",
       "\n",
       "[1000 rows x 8 columns]"
      ]
     },
     "execution_count": 8,
     "metadata": {},
     "output_type": "execute_result"
    }
   ],
   "source": [
    "features"
   ]
  },
  {
   "cell_type": "code",
   "execution_count": 13,
   "metadata": {},
   "outputs": [],
   "source": [
    "assert features.User_ID.nunique() == features.shape[0]"
   ]
  },
  {
   "cell_type": "code",
   "execution_count": 25,
   "metadata": {},
   "outputs": [],
   "source": [
    "ordinal_features = [\"Gender\", \"Location\", \"Interests\"]"
   ]
  },
  {
   "cell_type": "code",
   "execution_count": 53,
   "metadata": {},
   "outputs": [],
   "source": [
    "# sns.displot(features.Average_Order_Value)\n",
    "# sns.displot(features.Total_Spending)\n",
    "# sns.displot(features.Income)\n",
    "# sns.displot(features.Age)"
   ]
  },
  {
   "cell_type": "code",
   "execution_count": 54,
   "metadata": {},
   "outputs": [
    {
     "data": {
      "text/plain": [
       "array([[1., 1., 2.],\n",
       "       [0., 0., 3.],\n",
       "       [0., 1., 2.],\n",
       "       ...,\n",
       "       [0., 2., 3.],\n",
       "       [1., 0., 4.],\n",
       "       [1., 0., 2.]])"
      ]
     },
     "execution_count": 54,
     "metadata": {},
     "output_type": "execute_result"
    }
   ],
   "source": [
    "oe = OrdinalEncoder()\n",
    "oe.fit_transform(features[ordinal_features])"
   ]
  },
  {
   "cell_type": "code",
   "execution_count": null,
   "metadata": {},
   "outputs": [
    {
     "data": {
      "text/plain": [
       "[array(['Female', 'Male'], dtype=object),\n",
       " array(['Rural', 'Suburban', 'Urban'], dtype=object),\n",
       " array(['Fashion', 'Food', 'Sports', 'Technology', 'Travel'], dtype=object)]"
      ]
     },
     "execution_count": 55,
     "metadata": {},
     "output_type": "execute_result"
    }
   ],
   "source": [
    "oe.categories_"
   ]
  },
  {
   "cell_type": "code",
   "execution_count": 61,
   "metadata": {},
   "outputs": [],
   "source": [
    "features.loc[:, ordinal_features] = oe.transform(features.loc[:, ordinal_features])"
   ]
  },
  {
   "cell_type": "code",
   "execution_count": 82,
   "metadata": {},
   "outputs": [],
   "source": [
    "num_features_cols = features.columns[1:]\n",
    "num_features = features.loc[:, num_features_cols]\n",
    "norm_features = minmax_scale(num_features, axis=0)"
   ]
  },
  {
   "cell_type": "code",
   "execution_count": 83,
   "metadata": {},
   "outputs": [],
   "source": [
    "user_similarities = cosine_similarity(norm_features, norm_features)"
   ]
  },
  {
   "cell_type": "code",
   "execution_count": 90,
   "metadata": {},
   "outputs": [
    {
     "data": {
      "text/plain": [
       "3"
      ]
     },
     "execution_count": 90,
     "metadata": {},
     "output_type": "execute_result"
    }
   ],
   "source": [
    "features[features.User_ID == features.User_ID.iloc[3]].index.values[0]"
   ]
  },
  {
   "cell_type": "code",
   "execution_count": 121,
   "metadata": {},
   "outputs": [],
   "source": [
    "class Sim:\n",
    "    def __init__(self, similarities, user_ids):\n",
    "        self.similarities = similarities\n",
    "        self.user_ids = user_ids\n",
    "    \n",
    "    def get_similar(self, user_id, n=5):\n",
    "        user_index = self.user_ids[\n",
    "            self.user_ids == user_id\n",
    "        ].index.values[0]\n",
    "        sim = self.similarities[user_index]\n",
    "        sim = [(i, v) for i, v in enumerate(sim)]\n",
    "        ssim = sorted(sim, key=lambda x: -x[-1])\n",
    "        similar_users = [i for i, _ in ssim[1:n+1]]\n",
    "        \n",
    "        return self.user_ids[similar_users]"
   ]
  },
  {
   "cell_type": "code",
   "execution_count": 122,
   "metadata": {},
   "outputs": [],
   "source": [
    "sim = Sim(similarities=user_similarities, user_ids=features.User_ID)"
   ]
  },
  {
   "cell_type": "code",
   "execution_count": 124,
   "metadata": {},
   "outputs": [
    {
     "data": {
      "text/plain": [
       "833    #834\n",
       "130    #131\n",
       "518    #519\n",
       "160    #161\n",
       "311    #312\n",
       "Name: User_ID, dtype: object"
      ]
     },
     "execution_count": 124,
     "metadata": {},
     "output_type": "execute_result"
    }
   ],
   "source": [
    "sim.get_similar(\"#2\")"
   ]
  },
  {
   "cell_type": "code",
   "execution_count": null,
   "metadata": {},
   "outputs": [],
   "source": []
  }
 ],
 "metadata": {
  "kernelspec": {
   "display_name": "da311",
   "language": "python",
   "name": "python3"
  },
  "language_info": {
   "codemirror_mode": {
    "name": "ipython",
    "version": 3
   },
   "file_extension": ".py",
   "mimetype": "text/x-python",
   "name": "python",
   "nbconvert_exporter": "python",
   "pygments_lexer": "ipython3",
   "version": "3.11.5"
  }
 },
 "nbformat": 4,
 "nbformat_minor": 2
}
