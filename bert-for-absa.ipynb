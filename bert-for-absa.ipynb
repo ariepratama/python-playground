{
  "nbformat": 4,
  "nbformat_minor": 0,
  "metadata": {
    "colab": {
      "name": "2020-07-13 ABSA - Aspect Term .ipynb",
      "provenance": [],
      "collapsed_sections": []
    },
    "kernelspec": {
      "name": "python3",
      "display_name": "Python 3"
    },
    "accelerator": "GPU",
    "widgets": {
      "application/vnd.jupyter.widget-state+json": {
        "1f98f802c9ec4b619ff2c0a4184d931c": {
          "model_module": "@jupyter-widgets/controls",
          "model_name": "HBoxModel",
          "state": {
            "_view_name": "HBoxView",
            "_dom_classes": [],
            "_model_name": "HBoxModel",
            "_view_module": "@jupyter-widgets/controls",
            "_model_module_version": "1.5.0",
            "_view_count": null,
            "_view_module_version": "1.5.0",
            "box_style": "",
            "layout": "IPY_MODEL_9113d0fa2e764368adfe6bd05da6ccbc",
            "_model_module": "@jupyter-widgets/controls",
            "children": [
              "IPY_MODEL_f618183c2e994f47b2ae02a269c194c9",
              "IPY_MODEL_e85501205717454b8d3a3dc0abb3cd2c"
            ]
          }
        },
        "9113d0fa2e764368adfe6bd05da6ccbc": {
          "model_module": "@jupyter-widgets/base",
          "model_name": "LayoutModel",
          "state": {
            "_view_name": "LayoutView",
            "grid_template_rows": null,
            "right": null,
            "justify_content": null,
            "_view_module": "@jupyter-widgets/base",
            "overflow": null,
            "_model_module_version": "1.2.0",
            "_view_count": null,
            "flex_flow": null,
            "width": null,
            "min_width": null,
            "border": null,
            "align_items": null,
            "bottom": null,
            "_model_module": "@jupyter-widgets/base",
            "top": null,
            "grid_column": null,
            "overflow_y": null,
            "overflow_x": null,
            "grid_auto_flow": null,
            "grid_area": null,
            "grid_template_columns": null,
            "flex": null,
            "_model_name": "LayoutModel",
            "justify_items": null,
            "grid_row": null,
            "max_height": null,
            "align_content": null,
            "visibility": null,
            "align_self": null,
            "height": null,
            "min_height": null,
            "padding": null,
            "grid_auto_rows": null,
            "grid_gap": null,
            "max_width": null,
            "order": null,
            "_view_module_version": "1.2.0",
            "grid_template_areas": null,
            "object_position": null,
            "object_fit": null,
            "grid_auto_columns": null,
            "margin": null,
            "display": null,
            "left": null
          }
        },
        "f618183c2e994f47b2ae02a269c194c9": {
          "model_module": "@jupyter-widgets/controls",
          "model_name": "FloatProgressModel",
          "state": {
            "_view_name": "ProgressView",
            "style": "IPY_MODEL_33e2c9ee9f154e76956632e469133c23",
            "_dom_classes": [],
            "description": "Downloading: 100%",
            "_model_name": "FloatProgressModel",
            "bar_style": "success",
            "max": 433,
            "_view_module": "@jupyter-widgets/controls",
            "_model_module_version": "1.5.0",
            "value": 433,
            "_view_count": null,
            "_view_module_version": "1.5.0",
            "orientation": "horizontal",
            "min": 0,
            "description_tooltip": null,
            "_model_module": "@jupyter-widgets/controls",
            "layout": "IPY_MODEL_b4776852a525418aab47f616d816e36e"
          }
        },
        "e85501205717454b8d3a3dc0abb3cd2c": {
          "model_module": "@jupyter-widgets/controls",
          "model_name": "HTMLModel",
          "state": {
            "_view_name": "HTMLView",
            "style": "IPY_MODEL_b01c63e2a54e47a38e96510b5fef137c",
            "_dom_classes": [],
            "description": "",
            "_model_name": "HTMLModel",
            "placeholder": "​",
            "_view_module": "@jupyter-widgets/controls",
            "_model_module_version": "1.5.0",
            "value": " 433/433 [00:07&lt;00:00, 61.5B/s]",
            "_view_count": null,
            "_view_module_version": "1.5.0",
            "description_tooltip": null,
            "_model_module": "@jupyter-widgets/controls",
            "layout": "IPY_MODEL_b949e765daa74104af2aeb9f8c494d6b"
          }
        },
        "33e2c9ee9f154e76956632e469133c23": {
          "model_module": "@jupyter-widgets/controls",
          "model_name": "ProgressStyleModel",
          "state": {
            "_view_name": "StyleView",
            "_model_name": "ProgressStyleModel",
            "description_width": "initial",
            "_view_module": "@jupyter-widgets/base",
            "_model_module_version": "1.5.0",
            "_view_count": null,
            "_view_module_version": "1.2.0",
            "bar_color": null,
            "_model_module": "@jupyter-widgets/controls"
          }
        },
        "b4776852a525418aab47f616d816e36e": {
          "model_module": "@jupyter-widgets/base",
          "model_name": "LayoutModel",
          "state": {
            "_view_name": "LayoutView",
            "grid_template_rows": null,
            "right": null,
            "justify_content": null,
            "_view_module": "@jupyter-widgets/base",
            "overflow": null,
            "_model_module_version": "1.2.0",
            "_view_count": null,
            "flex_flow": null,
            "width": null,
            "min_width": null,
            "border": null,
            "align_items": null,
            "bottom": null,
            "_model_module": "@jupyter-widgets/base",
            "top": null,
            "grid_column": null,
            "overflow_y": null,
            "overflow_x": null,
            "grid_auto_flow": null,
            "grid_area": null,
            "grid_template_columns": null,
            "flex": null,
            "_model_name": "LayoutModel",
            "justify_items": null,
            "grid_row": null,
            "max_height": null,
            "align_content": null,
            "visibility": null,
            "align_self": null,
            "height": null,
            "min_height": null,
            "padding": null,
            "grid_auto_rows": null,
            "grid_gap": null,
            "max_width": null,
            "order": null,
            "_view_module_version": "1.2.0",
            "grid_template_areas": null,
            "object_position": null,
            "object_fit": null,
            "grid_auto_columns": null,
            "margin": null,
            "display": null,
            "left": null
          }
        },
        "b01c63e2a54e47a38e96510b5fef137c": {
          "model_module": "@jupyter-widgets/controls",
          "model_name": "DescriptionStyleModel",
          "state": {
            "_view_name": "StyleView",
            "_model_name": "DescriptionStyleModel",
            "description_width": "",
            "_view_module": "@jupyter-widgets/base",
            "_model_module_version": "1.5.0",
            "_view_count": null,
            "_view_module_version": "1.2.0",
            "_model_module": "@jupyter-widgets/controls"
          }
        },
        "b949e765daa74104af2aeb9f8c494d6b": {
          "model_module": "@jupyter-widgets/base",
          "model_name": "LayoutModel",
          "state": {
            "_view_name": "LayoutView",
            "grid_template_rows": null,
            "right": null,
            "justify_content": null,
            "_view_module": "@jupyter-widgets/base",
            "overflow": null,
            "_model_module_version": "1.2.0",
            "_view_count": null,
            "flex_flow": null,
            "width": null,
            "min_width": null,
            "border": null,
            "align_items": null,
            "bottom": null,
            "_model_module": "@jupyter-widgets/base",
            "top": null,
            "grid_column": null,
            "overflow_y": null,
            "overflow_x": null,
            "grid_auto_flow": null,
            "grid_area": null,
            "grid_template_columns": null,
            "flex": null,
            "_model_name": "LayoutModel",
            "justify_items": null,
            "grid_row": null,
            "max_height": null,
            "align_content": null,
            "visibility": null,
            "align_self": null,
            "height": null,
            "min_height": null,
            "padding": null,
            "grid_auto_rows": null,
            "grid_gap": null,
            "max_width": null,
            "order": null,
            "_view_module_version": "1.2.0",
            "grid_template_areas": null,
            "object_position": null,
            "object_fit": null,
            "grid_auto_columns": null,
            "margin": null,
            "display": null,
            "left": null
          }
        },
        "90c84ee97349485fa3a1edf0323d20b4": {
          "model_module": "@jupyter-widgets/controls",
          "model_name": "HBoxModel",
          "state": {
            "_view_name": "HBoxView",
            "_dom_classes": [],
            "_model_name": "HBoxModel",
            "_view_module": "@jupyter-widgets/controls",
            "_model_module_version": "1.5.0",
            "_view_count": null,
            "_view_module_version": "1.5.0",
            "box_style": "",
            "layout": "IPY_MODEL_de5f1528634b434586c9455355ddcf72",
            "_model_module": "@jupyter-widgets/controls",
            "children": [
              "IPY_MODEL_ebb33371ec754962a960802b0acae7ec",
              "IPY_MODEL_7c6e9f8b1c974653be2fa59af5cb7f7d"
            ]
          }
        },
        "de5f1528634b434586c9455355ddcf72": {
          "model_module": "@jupyter-widgets/base",
          "model_name": "LayoutModel",
          "state": {
            "_view_name": "LayoutView",
            "grid_template_rows": null,
            "right": null,
            "justify_content": null,
            "_view_module": "@jupyter-widgets/base",
            "overflow": null,
            "_model_module_version": "1.2.0",
            "_view_count": null,
            "flex_flow": null,
            "width": null,
            "min_width": null,
            "border": null,
            "align_items": null,
            "bottom": null,
            "_model_module": "@jupyter-widgets/base",
            "top": null,
            "grid_column": null,
            "overflow_y": null,
            "overflow_x": null,
            "grid_auto_flow": null,
            "grid_area": null,
            "grid_template_columns": null,
            "flex": null,
            "_model_name": "LayoutModel",
            "justify_items": null,
            "grid_row": null,
            "max_height": null,
            "align_content": null,
            "visibility": null,
            "align_self": null,
            "height": null,
            "min_height": null,
            "padding": null,
            "grid_auto_rows": null,
            "grid_gap": null,
            "max_width": null,
            "order": null,
            "_view_module_version": "1.2.0",
            "grid_template_areas": null,
            "object_position": null,
            "object_fit": null,
            "grid_auto_columns": null,
            "margin": null,
            "display": null,
            "left": null
          }
        },
        "ebb33371ec754962a960802b0acae7ec": {
          "model_module": "@jupyter-widgets/controls",
          "model_name": "FloatProgressModel",
          "state": {
            "_view_name": "ProgressView",
            "style": "IPY_MODEL_e86e249fbc7c40ca97bd249ab91fccaa",
            "_dom_classes": [],
            "description": "Downloading: 100%",
            "_model_name": "FloatProgressModel",
            "bar_style": "success",
            "max": 440473133,
            "_view_module": "@jupyter-widgets/controls",
            "_model_module_version": "1.5.0",
            "value": 440473133,
            "_view_count": null,
            "_view_module_version": "1.5.0",
            "orientation": "horizontal",
            "min": 0,
            "description_tooltip": null,
            "_model_module": "@jupyter-widgets/controls",
            "layout": "IPY_MODEL_9dac35060c804e15af72d0af8cf59d98"
          }
        },
        "7c6e9f8b1c974653be2fa59af5cb7f7d": {
          "model_module": "@jupyter-widgets/controls",
          "model_name": "HTMLModel",
          "state": {
            "_view_name": "HTMLView",
            "style": "IPY_MODEL_f6cc433e7a9d4eeeb8ac5d2c4c8a71eb",
            "_dom_classes": [],
            "description": "",
            "_model_name": "HTMLModel",
            "placeholder": "​",
            "_view_module": "@jupyter-widgets/controls",
            "_model_module_version": "1.5.0",
            "value": " 440M/440M [00:06&lt;00:00, 69.9MB/s]",
            "_view_count": null,
            "_view_module_version": "1.5.0",
            "description_tooltip": null,
            "_model_module": "@jupyter-widgets/controls",
            "layout": "IPY_MODEL_283fc4d4a3c446b8880276281db05e42"
          }
        },
        "e86e249fbc7c40ca97bd249ab91fccaa": {
          "model_module": "@jupyter-widgets/controls",
          "model_name": "ProgressStyleModel",
          "state": {
            "_view_name": "StyleView",
            "_model_name": "ProgressStyleModel",
            "description_width": "initial",
            "_view_module": "@jupyter-widgets/base",
            "_model_module_version": "1.5.0",
            "_view_count": null,
            "_view_module_version": "1.2.0",
            "bar_color": null,
            "_model_module": "@jupyter-widgets/controls"
          }
        },
        "9dac35060c804e15af72d0af8cf59d98": {
          "model_module": "@jupyter-widgets/base",
          "model_name": "LayoutModel",
          "state": {
            "_view_name": "LayoutView",
            "grid_template_rows": null,
            "right": null,
            "justify_content": null,
            "_view_module": "@jupyter-widgets/base",
            "overflow": null,
            "_model_module_version": "1.2.0",
            "_view_count": null,
            "flex_flow": null,
            "width": null,
            "min_width": null,
            "border": null,
            "align_items": null,
            "bottom": null,
            "_model_module": "@jupyter-widgets/base",
            "top": null,
            "grid_column": null,
            "overflow_y": null,
            "overflow_x": null,
            "grid_auto_flow": null,
            "grid_area": null,
            "grid_template_columns": null,
            "flex": null,
            "_model_name": "LayoutModel",
            "justify_items": null,
            "grid_row": null,
            "max_height": null,
            "align_content": null,
            "visibility": null,
            "align_self": null,
            "height": null,
            "min_height": null,
            "padding": null,
            "grid_auto_rows": null,
            "grid_gap": null,
            "max_width": null,
            "order": null,
            "_view_module_version": "1.2.0",
            "grid_template_areas": null,
            "object_position": null,
            "object_fit": null,
            "grid_auto_columns": null,
            "margin": null,
            "display": null,
            "left": null
          }
        },
        "f6cc433e7a9d4eeeb8ac5d2c4c8a71eb": {
          "model_module": "@jupyter-widgets/controls",
          "model_name": "DescriptionStyleModel",
          "state": {
            "_view_name": "StyleView",
            "_model_name": "DescriptionStyleModel",
            "description_width": "",
            "_view_module": "@jupyter-widgets/base",
            "_model_module_version": "1.5.0",
            "_view_count": null,
            "_view_module_version": "1.2.0",
            "_model_module": "@jupyter-widgets/controls"
          }
        },
        "283fc4d4a3c446b8880276281db05e42": {
          "model_module": "@jupyter-widgets/base",
          "model_name": "LayoutModel",
          "state": {
            "_view_name": "LayoutView",
            "grid_template_rows": null,
            "right": null,
            "justify_content": null,
            "_view_module": "@jupyter-widgets/base",
            "overflow": null,
            "_model_module_version": "1.2.0",
            "_view_count": null,
            "flex_flow": null,
            "width": null,
            "min_width": null,
            "border": null,
            "align_items": null,
            "bottom": null,
            "_model_module": "@jupyter-widgets/base",
            "top": null,
            "grid_column": null,
            "overflow_y": null,
            "overflow_x": null,
            "grid_auto_flow": null,
            "grid_area": null,
            "grid_template_columns": null,
            "flex": null,
            "_model_name": "LayoutModel",
            "justify_items": null,
            "grid_row": null,
            "max_height": null,
            "align_content": null,
            "visibility": null,
            "align_self": null,
            "height": null,
            "min_height": null,
            "padding": null,
            "grid_auto_rows": null,
            "grid_gap": null,
            "max_width": null,
            "order": null,
            "_view_module_version": "1.2.0",
            "grid_template_areas": null,
            "object_position": null,
            "object_fit": null,
            "grid_auto_columns": null,
            "margin": null,
            "display": null,
            "left": null
          }
        },
        "cb66fc5c12f843e398a15b8102bf1226": {
          "model_module": "@jupyter-widgets/controls",
          "model_name": "HBoxModel",
          "state": {
            "_view_name": "HBoxView",
            "_dom_classes": [],
            "_model_name": "HBoxModel",
            "_view_module": "@jupyter-widgets/controls",
            "_model_module_version": "1.5.0",
            "_view_count": null,
            "_view_module_version": "1.5.0",
            "box_style": "",
            "layout": "IPY_MODEL_fd2a8fb7edbc46798fb246d508dc64ab",
            "_model_module": "@jupyter-widgets/controls",
            "children": [
              "IPY_MODEL_ceaf354975314de59c5d319b50db2b6a",
              "IPY_MODEL_0700264aad8a48f4bdacad1fce627335"
            ]
          }
        },
        "fd2a8fb7edbc46798fb246d508dc64ab": {
          "model_module": "@jupyter-widgets/base",
          "model_name": "LayoutModel",
          "state": {
            "_view_name": "LayoutView",
            "grid_template_rows": null,
            "right": null,
            "justify_content": null,
            "_view_module": "@jupyter-widgets/base",
            "overflow": null,
            "_model_module_version": "1.2.0",
            "_view_count": null,
            "flex_flow": null,
            "width": null,
            "min_width": null,
            "border": null,
            "align_items": null,
            "bottom": null,
            "_model_module": "@jupyter-widgets/base",
            "top": null,
            "grid_column": null,
            "overflow_y": null,
            "overflow_x": null,
            "grid_auto_flow": null,
            "grid_area": null,
            "grid_template_columns": null,
            "flex": null,
            "_model_name": "LayoutModel",
            "justify_items": null,
            "grid_row": null,
            "max_height": null,
            "align_content": null,
            "visibility": null,
            "align_self": null,
            "height": null,
            "min_height": null,
            "padding": null,
            "grid_auto_rows": null,
            "grid_gap": null,
            "max_width": null,
            "order": null,
            "_view_module_version": "1.2.0",
            "grid_template_areas": null,
            "object_position": null,
            "object_fit": null,
            "grid_auto_columns": null,
            "margin": null,
            "display": null,
            "left": null
          }
        },
        "ceaf354975314de59c5d319b50db2b6a": {
          "model_module": "@jupyter-widgets/controls",
          "model_name": "FloatProgressModel",
          "state": {
            "_view_name": "ProgressView",
            "style": "IPY_MODEL_6a50af2a7e9c47c1acf54f517dd79cbc",
            "_dom_classes": [],
            "description": "Downloading: 100%",
            "_model_name": "FloatProgressModel",
            "bar_style": "success",
            "max": 231508,
            "_view_module": "@jupyter-widgets/controls",
            "_model_module_version": "1.5.0",
            "value": 231508,
            "_view_count": null,
            "_view_module_version": "1.5.0",
            "orientation": "horizontal",
            "min": 0,
            "description_tooltip": null,
            "_model_module": "@jupyter-widgets/controls",
            "layout": "IPY_MODEL_ceb8cb8a443f4384b43ac5e3d4fa02ce"
          }
        },
        "0700264aad8a48f4bdacad1fce627335": {
          "model_module": "@jupyter-widgets/controls",
          "model_name": "HTMLModel",
          "state": {
            "_view_name": "HTMLView",
            "style": "IPY_MODEL_6da5a87b150c4b529cbbd3420a0d062d",
            "_dom_classes": [],
            "description": "",
            "_model_name": "HTMLModel",
            "placeholder": "​",
            "_view_module": "@jupyter-widgets/controls",
            "_model_module_version": "1.5.0",
            "value": " 232k/232k [00:00&lt;00:00, 364kB/s]",
            "_view_count": null,
            "_view_module_version": "1.5.0",
            "description_tooltip": null,
            "_model_module": "@jupyter-widgets/controls",
            "layout": "IPY_MODEL_ad94f0a09c3d4a9ba4412e7e3e472316"
          }
        },
        "6a50af2a7e9c47c1acf54f517dd79cbc": {
          "model_module": "@jupyter-widgets/controls",
          "model_name": "ProgressStyleModel",
          "state": {
            "_view_name": "StyleView",
            "_model_name": "ProgressStyleModel",
            "description_width": "initial",
            "_view_module": "@jupyter-widgets/base",
            "_model_module_version": "1.5.0",
            "_view_count": null,
            "_view_module_version": "1.2.0",
            "bar_color": null,
            "_model_module": "@jupyter-widgets/controls"
          }
        },
        "ceb8cb8a443f4384b43ac5e3d4fa02ce": {
          "model_module": "@jupyter-widgets/base",
          "model_name": "LayoutModel",
          "state": {
            "_view_name": "LayoutView",
            "grid_template_rows": null,
            "right": null,
            "justify_content": null,
            "_view_module": "@jupyter-widgets/base",
            "overflow": null,
            "_model_module_version": "1.2.0",
            "_view_count": null,
            "flex_flow": null,
            "width": null,
            "min_width": null,
            "border": null,
            "align_items": null,
            "bottom": null,
            "_model_module": "@jupyter-widgets/base",
            "top": null,
            "grid_column": null,
            "overflow_y": null,
            "overflow_x": null,
            "grid_auto_flow": null,
            "grid_area": null,
            "grid_template_columns": null,
            "flex": null,
            "_model_name": "LayoutModel",
            "justify_items": null,
            "grid_row": null,
            "max_height": null,
            "align_content": null,
            "visibility": null,
            "align_self": null,
            "height": null,
            "min_height": null,
            "padding": null,
            "grid_auto_rows": null,
            "grid_gap": null,
            "max_width": null,
            "order": null,
            "_view_module_version": "1.2.0",
            "grid_template_areas": null,
            "object_position": null,
            "object_fit": null,
            "grid_auto_columns": null,
            "margin": null,
            "display": null,
            "left": null
          }
        },
        "6da5a87b150c4b529cbbd3420a0d062d": {
          "model_module": "@jupyter-widgets/controls",
          "model_name": "DescriptionStyleModel",
          "state": {
            "_view_name": "StyleView",
            "_model_name": "DescriptionStyleModel",
            "description_width": "",
            "_view_module": "@jupyter-widgets/base",
            "_model_module_version": "1.5.0",
            "_view_count": null,
            "_view_module_version": "1.2.0",
            "_model_module": "@jupyter-widgets/controls"
          }
        },
        "ad94f0a09c3d4a9ba4412e7e3e472316": {
          "model_module": "@jupyter-widgets/base",
          "model_name": "LayoutModel",
          "state": {
            "_view_name": "LayoutView",
            "grid_template_rows": null,
            "right": null,
            "justify_content": null,
            "_view_module": "@jupyter-widgets/base",
            "overflow": null,
            "_model_module_version": "1.2.0",
            "_view_count": null,
            "flex_flow": null,
            "width": null,
            "min_width": null,
            "border": null,
            "align_items": null,
            "bottom": null,
            "_model_module": "@jupyter-widgets/base",
            "top": null,
            "grid_column": null,
            "overflow_y": null,
            "overflow_x": null,
            "grid_auto_flow": null,
            "grid_area": null,
            "grid_template_columns": null,
            "flex": null,
            "_model_name": "LayoutModel",
            "justify_items": null,
            "grid_row": null,
            "max_height": null,
            "align_content": null,
            "visibility": null,
            "align_self": null,
            "height": null,
            "min_height": null,
            "padding": null,
            "grid_auto_rows": null,
            "grid_gap": null,
            "max_width": null,
            "order": null,
            "_view_module_version": "1.2.0",
            "grid_template_areas": null,
            "object_position": null,
            "object_fit": null,
            "grid_auto_columns": null,
            "margin": null,
            "display": null,
            "left": null
          }
        }
      }
    }
  },
  "cells": [
    {
      "cell_type": "markdown",
      "metadata": {
        "id": "9eM7ADzkuo8o",
        "colab_type": "text"
      },
      "source": [
        "\n",
        "# Preparation\n",
        "We need to install the huggingface's library called `transformers` and its dependencies"
      ]
    },
    {
      "cell_type": "code",
      "metadata": {
        "id": "Lvu7fAOfR0fm",
        "colab_type": "code",
        "colab": {
          "base_uri": "https://localhost:8080/",
          "height": 493
        },
        "outputId": "1f0e8f22-f06c-44b7-a5ce-a8533dff9cb1"
      },
      "source": [
        "%%bash\n",
        "pip install tqdm boto3 requests regex sentencepiece sacremoses"
      ],
      "execution_count": 1,
      "outputs": [
        {
          "output_type": "stream",
          "text": [
            "Requirement already satisfied: tqdm in /usr/local/lib/python3.6/dist-packages (4.41.1)\n",
            "Requirement already satisfied: boto3 in /usr/local/lib/python3.6/dist-packages (1.14.37)\n",
            "Requirement already satisfied: requests in /usr/local/lib/python3.6/dist-packages (2.23.0)\n",
            "Requirement already satisfied: regex in /usr/local/lib/python3.6/dist-packages (2019.12.20)\n",
            "Collecting sentencepiece\n",
            "  Downloading https://files.pythonhosted.org/packages/d4/a4/d0a884c4300004a78cca907a6ff9a5e9fe4f090f5d95ab341c53d28cbc58/sentencepiece-0.1.91-cp36-cp36m-manylinux1_x86_64.whl (1.1MB)\n",
            "Collecting sacremoses\n",
            "  Downloading https://files.pythonhosted.org/packages/7d/34/09d19aff26edcc8eb2a01bed8e98f13a1537005d31e95233fd48216eed10/sacremoses-0.0.43.tar.gz (883kB)\n",
            "Requirement already satisfied: jmespath<1.0.0,>=0.7.1 in /usr/local/lib/python3.6/dist-packages (from boto3) (0.10.0)\n",
            "Requirement already satisfied: s3transfer<0.4.0,>=0.3.0 in /usr/local/lib/python3.6/dist-packages (from boto3) (0.3.3)\n",
            "Requirement already satisfied: botocore<1.18.0,>=1.17.37 in /usr/local/lib/python3.6/dist-packages (from boto3) (1.17.37)\n",
            "Requirement already satisfied: idna<3,>=2.5 in /usr/local/lib/python3.6/dist-packages (from requests) (2.10)\n",
            "Requirement already satisfied: chardet<4,>=3.0.2 in /usr/local/lib/python3.6/dist-packages (from requests) (3.0.4)\n",
            "Requirement already satisfied: certifi>=2017.4.17 in /usr/local/lib/python3.6/dist-packages (from requests) (2020.6.20)\n",
            "Requirement already satisfied: urllib3!=1.25.0,!=1.25.1,<1.26,>=1.21.1 in /usr/local/lib/python3.6/dist-packages (from requests) (1.24.3)\n",
            "Requirement already satisfied: six in /usr/local/lib/python3.6/dist-packages (from sacremoses) (1.15.0)\n",
            "Requirement already satisfied: click in /usr/local/lib/python3.6/dist-packages (from sacremoses) (7.1.2)\n",
            "Requirement already satisfied: joblib in /usr/local/lib/python3.6/dist-packages (from sacremoses) (0.16.0)\n",
            "Requirement already satisfied: docutils<0.16,>=0.10 in /usr/local/lib/python3.6/dist-packages (from botocore<1.18.0,>=1.17.37->boto3) (0.15.2)\n",
            "Requirement already satisfied: python-dateutil<3.0.0,>=2.1 in /usr/local/lib/python3.6/dist-packages (from botocore<1.18.0,>=1.17.37->boto3) (2.8.1)\n",
            "Building wheels for collected packages: sacremoses\n",
            "  Building wheel for sacremoses (setup.py): started\n",
            "  Building wheel for sacremoses (setup.py): finished with status 'done'\n",
            "  Created wheel for sacremoses: filename=sacremoses-0.0.43-cp36-none-any.whl size=893260 sha256=0b8c7de45030a273b339f88721816aec0061b09e8e07c1edf9934f7852c6cb91\n",
            "  Stored in directory: /root/.cache/pip/wheels/29/3c/fd/7ce5c3f0666dab31a50123635e6fb5e19ceb42ce38d4e58f45\n",
            "Successfully built sacremoses\n",
            "Installing collected packages: sentencepiece, sacremoses\n",
            "Successfully installed sacremoses-0.0.43 sentencepiece-0.1.91\n"
          ],
          "name": "stdout"
        }
      ]
    },
    {
      "cell_type": "code",
      "metadata": {
        "id": "qLPgI2xtTCrI",
        "colab_type": "code",
        "colab": {
          "base_uri": "https://localhost:8080/",
          "height": 442
        },
        "outputId": "0053484f-25fd-4ff7-ed58-01bf5897566e"
      },
      "source": [
        "!pip install transformers"
      ],
      "execution_count": 2,
      "outputs": [
        {
          "output_type": "stream",
          "text": [
            "Collecting transformers\n",
            "\u001b[?25l  Downloading https://files.pythonhosted.org/packages/27/3c/91ed8f5c4e7ef3227b4119200fc0ed4b4fd965b1f0172021c25701087825/transformers-3.0.2-py3-none-any.whl (769kB)\n",
            "\r\u001b[K     |▍                               | 10kB 22.2MB/s eta 0:00:01\r\u001b[K     |▉                               | 20kB 2.8MB/s eta 0:00:01\r\u001b[K     |█▎                              | 30kB 3.5MB/s eta 0:00:01\r\u001b[K     |█▊                              | 40kB 3.9MB/s eta 0:00:01\r\u001b[K     |██▏                             | 51kB 3.2MB/s eta 0:00:01\r\u001b[K     |██▋                             | 61kB 3.6MB/s eta 0:00:01\r\u001b[K     |███                             | 71kB 4.0MB/s eta 0:00:01\r\u001b[K     |███▍                            | 81kB 4.4MB/s eta 0:00:01\r\u001b[K     |███▉                            | 92kB 4.7MB/s eta 0:00:01\r\u001b[K     |████▎                           | 102kB 4.5MB/s eta 0:00:01\r\u001b[K     |████▊                           | 112kB 4.5MB/s eta 0:00:01\r\u001b[K     |█████▏                          | 122kB 4.5MB/s eta 0:00:01\r\u001b[K     |█████▌                          | 133kB 4.5MB/s eta 0:00:01\r\u001b[K     |██████                          | 143kB 4.5MB/s eta 0:00:01\r\u001b[K     |██████▍                         | 153kB 4.5MB/s eta 0:00:01\r\u001b[K     |██████▉                         | 163kB 4.5MB/s eta 0:00:01\r\u001b[K     |███████▎                        | 174kB 4.5MB/s eta 0:00:01\r\u001b[K     |███████▊                        | 184kB 4.5MB/s eta 0:00:01\r\u001b[K     |████████                        | 194kB 4.5MB/s eta 0:00:01\r\u001b[K     |████████▌                       | 204kB 4.5MB/s eta 0:00:01\r\u001b[K     |█████████                       | 215kB 4.5MB/s eta 0:00:01\r\u001b[K     |█████████▍                      | 225kB 4.5MB/s eta 0:00:01\r\u001b[K     |█████████▉                      | 235kB 4.5MB/s eta 0:00:01\r\u001b[K     |██████████▎                     | 245kB 4.5MB/s eta 0:00:01\r\u001b[K     |██████████▋                     | 256kB 4.5MB/s eta 0:00:01\r\u001b[K     |███████████                     | 266kB 4.5MB/s eta 0:00:01\r\u001b[K     |███████████▌                    | 276kB 4.5MB/s eta 0:00:01\r\u001b[K     |████████████                    | 286kB 4.5MB/s eta 0:00:01\r\u001b[K     |████████████▍                   | 296kB 4.5MB/s eta 0:00:01\r\u001b[K     |████████████▉                   | 307kB 4.5MB/s eta 0:00:01\r\u001b[K     |█████████████▏                  | 317kB 4.5MB/s eta 0:00:01\r\u001b[K     |█████████████▋                  | 327kB 4.5MB/s eta 0:00:01\r\u001b[K     |██████████████                  | 337kB 4.5MB/s eta 0:00:01\r\u001b[K     |██████████████▌                 | 348kB 4.5MB/s eta 0:00:01\r\u001b[K     |███████████████                 | 358kB 4.5MB/s eta 0:00:01\r\u001b[K     |███████████████▍                | 368kB 4.5MB/s eta 0:00:01\r\u001b[K     |███████████████▊                | 378kB 4.5MB/s eta 0:00:01\r\u001b[K     |████████████████▏               | 389kB 4.5MB/s eta 0:00:01\r\u001b[K     |████████████████▋               | 399kB 4.5MB/s eta 0:00:01\r\u001b[K     |█████████████████               | 409kB 4.5MB/s eta 0:00:01\r\u001b[K     |█████████████████▌              | 419kB 4.5MB/s eta 0:00:01\r\u001b[K     |██████████████████              | 430kB 4.5MB/s eta 0:00:01\r\u001b[K     |██████████████████▎             | 440kB 4.5MB/s eta 0:00:01\r\u001b[K     |██████████████████▊             | 450kB 4.5MB/s eta 0:00:01\r\u001b[K     |███████████████████▏            | 460kB 4.5MB/s eta 0:00:01\r\u001b[K     |███████████████████▋            | 471kB 4.5MB/s eta 0:00:01\r\u001b[K     |████████████████████            | 481kB 4.5MB/s eta 0:00:01\r\u001b[K     |████████████████████▌           | 491kB 4.5MB/s eta 0:00:01\r\u001b[K     |████████████████████▉           | 501kB 4.5MB/s eta 0:00:01\r\u001b[K     |█████████████████████▎          | 512kB 4.5MB/s eta 0:00:01\r\u001b[K     |█████████████████████▊          | 522kB 4.5MB/s eta 0:00:01\r\u001b[K     |██████████████████████▏         | 532kB 4.5MB/s eta 0:00:01\r\u001b[K     |██████████████████████▋         | 542kB 4.5MB/s eta 0:00:01\r\u001b[K     |███████████████████████         | 552kB 4.5MB/s eta 0:00:01\r\u001b[K     |███████████████████████▍        | 563kB 4.5MB/s eta 0:00:01\r\u001b[K     |███████████████████████▉        | 573kB 4.5MB/s eta 0:00:01\r\u001b[K     |████████████████████████▎       | 583kB 4.5MB/s eta 0:00:01\r\u001b[K     |████████████████████████▊       | 593kB 4.5MB/s eta 0:00:01\r\u001b[K     |█████████████████████████▏      | 604kB 4.5MB/s eta 0:00:01\r\u001b[K     |█████████████████████████▋      | 614kB 4.5MB/s eta 0:00:01\r\u001b[K     |██████████████████████████      | 624kB 4.5MB/s eta 0:00:01\r\u001b[K     |██████████████████████████▍     | 634kB 4.5MB/s eta 0:00:01\r\u001b[K     |██████████████████████████▉     | 645kB 4.5MB/s eta 0:00:01\r\u001b[K     |███████████████████████████▎    | 655kB 4.5MB/s eta 0:00:01\r\u001b[K     |███████████████████████████▊    | 665kB 4.5MB/s eta 0:00:01\r\u001b[K     |████████████████████████████▏   | 675kB 4.5MB/s eta 0:00:01\r\u001b[K     |████████████████████████████▌   | 686kB 4.5MB/s eta 0:00:01\r\u001b[K     |█████████████████████████████   | 696kB 4.5MB/s eta 0:00:01\r\u001b[K     |█████████████████████████████▍  | 706kB 4.5MB/s eta 0:00:01\r\u001b[K     |█████████████████████████████▉  | 716kB 4.5MB/s eta 0:00:01\r\u001b[K     |██████████████████████████████▎ | 727kB 4.5MB/s eta 0:00:01\r\u001b[K     |██████████████████████████████▊ | 737kB 4.5MB/s eta 0:00:01\r\u001b[K     |███████████████████████████████ | 747kB 4.5MB/s eta 0:00:01\r\u001b[K     |███████████████████████████████▌| 757kB 4.5MB/s eta 0:00:01\r\u001b[K     |████████████████████████████████| 768kB 4.5MB/s eta 0:00:01\r\u001b[K     |████████████████████████████████| 778kB 4.5MB/s \n",
            "\u001b[?25hRequirement already satisfied: requests in /usr/local/lib/python3.6/dist-packages (from transformers) (2.23.0)\n",
            "Requirement already satisfied: sacremoses in /usr/local/lib/python3.6/dist-packages (from transformers) (0.0.43)\n",
            "Collecting tokenizers==0.8.1.rc1\n",
            "\u001b[?25l  Downloading https://files.pythonhosted.org/packages/40/d0/30d5f8d221a0ed981a186c8eb986ce1c94e3a6e87f994eae9f4aa5250217/tokenizers-0.8.1rc1-cp36-cp36m-manylinux1_x86_64.whl (3.0MB)\n",
            "\u001b[K     |████████████████████████████████| 3.0MB 13.0MB/s \n",
            "\u001b[?25hRequirement already satisfied: packaging in /usr/local/lib/python3.6/dist-packages (from transformers) (20.4)\n",
            "Requirement already satisfied: numpy in /usr/local/lib/python3.6/dist-packages (from transformers) (1.18.5)\n",
            "Requirement already satisfied: tqdm>=4.27 in /usr/local/lib/python3.6/dist-packages (from transformers) (4.41.1)\n",
            "Requirement already satisfied: sentencepiece!=0.1.92 in /usr/local/lib/python3.6/dist-packages (from transformers) (0.1.91)\n",
            "Requirement already satisfied: dataclasses; python_version < \"3.7\" in /usr/local/lib/python3.6/dist-packages (from transformers) (0.7)\n",
            "Requirement already satisfied: filelock in /usr/local/lib/python3.6/dist-packages (from transformers) (3.0.12)\n",
            "Requirement already satisfied: regex!=2019.12.17 in /usr/local/lib/python3.6/dist-packages (from transformers) (2019.12.20)\n",
            "Requirement already satisfied: idna<3,>=2.5 in /usr/local/lib/python3.6/dist-packages (from requests->transformers) (2.10)\n",
            "Requirement already satisfied: urllib3!=1.25.0,!=1.25.1,<1.26,>=1.21.1 in /usr/local/lib/python3.6/dist-packages (from requests->transformers) (1.24.3)\n",
            "Requirement already satisfied: chardet<4,>=3.0.2 in /usr/local/lib/python3.6/dist-packages (from requests->transformers) (3.0.4)\n",
            "Requirement already satisfied: certifi>=2017.4.17 in /usr/local/lib/python3.6/dist-packages (from requests->transformers) (2020.6.20)\n",
            "Requirement already satisfied: six in /usr/local/lib/python3.6/dist-packages (from sacremoses->transformers) (1.15.0)\n",
            "Requirement already satisfied: joblib in /usr/local/lib/python3.6/dist-packages (from sacremoses->transformers) (0.16.0)\n",
            "Requirement already satisfied: click in /usr/local/lib/python3.6/dist-packages (from sacremoses->transformers) (7.1.2)\n",
            "Requirement already satisfied: pyparsing>=2.0.2 in /usr/local/lib/python3.6/dist-packages (from packaging->transformers) (2.4.7)\n",
            "Installing collected packages: tokenizers, transformers\n",
            "Successfully installed tokenizers-0.8.1rc1 transformers-3.0.2\n"
          ],
          "name": "stdout"
        }
      ]
    },
    {
      "cell_type": "code",
      "metadata": {
        "id": "-vQn7N7LLeRf",
        "colab_type": "code",
        "colab": {}
      },
      "source": [
        "import torch\n",
        "from transformers import BertTokenizerFast\n",
        "from transformers import DistilBertForTokenClassification, BertForTokenClassification\n",
        "\n",
        "from tqdm import tqdm\n",
        "from sklearn.preprocessing import LabelBinarizer\n",
        "from sklearn.model_selection import train_test_split\n",
        "\n",
        "import matplotlib.pyplot as plt\n",
        "from sklearn.metrics import classification_report\n",
        "\n",
        "import torch.nn.functional as F\n",
        "import torch.nn as nn\n",
        "\n",
        "import requests\n",
        "from xml.dom import minidom"
      ],
      "execution_count": 3,
      "outputs": []
    },
    {
      "cell_type": "code",
      "metadata": {
        "id": "Cv_9U3ONTNKd",
        "colab_type": "code",
        "colab": {
          "base_uri": "https://localhost:8080/",
          "height": 269,
          "referenced_widgets": [
            "1f98f802c9ec4b619ff2c0a4184d931c",
            "9113d0fa2e764368adfe6bd05da6ccbc",
            "f618183c2e994f47b2ae02a269c194c9",
            "e85501205717454b8d3a3dc0abb3cd2c",
            "33e2c9ee9f154e76956632e469133c23",
            "b4776852a525418aab47f616d816e36e",
            "b01c63e2a54e47a38e96510b5fef137c",
            "b949e765daa74104af2aeb9f8c494d6b",
            "90c84ee97349485fa3a1edf0323d20b4",
            "de5f1528634b434586c9455355ddcf72",
            "ebb33371ec754962a960802b0acae7ec",
            "7c6e9f8b1c974653be2fa59af5cb7f7d",
            "e86e249fbc7c40ca97bd249ab91fccaa",
            "9dac35060c804e15af72d0af8cf59d98",
            "f6cc433e7a9d4eeeb8ac5d2c4c8a71eb",
            "283fc4d4a3c446b8880276281db05e42",
            "cb66fc5c12f843e398a15b8102bf1226",
            "fd2a8fb7edbc46798fb246d508dc64ab",
            "ceaf354975314de59c5d319b50db2b6a",
            "0700264aad8a48f4bdacad1fce627335",
            "6a50af2a7e9c47c1acf54f517dd79cbc",
            "ceb8cb8a443f4384b43ac5e3d4fa02ce",
            "6da5a87b150c4b529cbbd3420a0d062d",
            "ad94f0a09c3d4a9ba4412e7e3e472316"
          ]
        },
        "outputId": "4120bd25-4d27-4ac5-b998-cef28c6f8811"
      },
      "source": [
        "# Store the model we want to use\n",
        "MODEL_NAME = \"bert-base-uncased\"\n",
        "\n",
        "# We need to create the model and tokenizer\n",
        "bert_model = BertForTokenClassification.from_pretrained(MODEL_NAME)\n",
        "tokenizer = BertTokenizerFast.from_pretrained(MODEL_NAME)"
      ],
      "execution_count": 4,
      "outputs": [
        {
          "output_type": "display_data",
          "data": {
            "application/vnd.jupyter.widget-view+json": {
              "model_id": "1f98f802c9ec4b619ff2c0a4184d931c",
              "version_minor": 0,
              "version_major": 2
            },
            "text/plain": [
              "HBox(children=(FloatProgress(value=0.0, description='Downloading', max=433.0, style=ProgressStyle(description_…"
            ]
          },
          "metadata": {
            "tags": []
          }
        },
        {
          "output_type": "stream",
          "text": [
            "\n"
          ],
          "name": "stdout"
        },
        {
          "output_type": "display_data",
          "data": {
            "application/vnd.jupyter.widget-view+json": {
              "model_id": "90c84ee97349485fa3a1edf0323d20b4",
              "version_minor": 0,
              "version_major": 2
            },
            "text/plain": [
              "HBox(children=(FloatProgress(value=0.0, description='Downloading', max=440473133.0, style=ProgressStyle(descri…"
            ]
          },
          "metadata": {
            "tags": []
          }
        },
        {
          "output_type": "stream",
          "text": [
            "\n"
          ],
          "name": "stdout"
        },
        {
          "output_type": "stream",
          "text": [
            "Some weights of the model checkpoint at bert-base-uncased were not used when initializing BertForTokenClassification: ['cls.predictions.bias', 'cls.predictions.transform.dense.weight', 'cls.predictions.transform.dense.bias', 'cls.predictions.decoder.weight', 'cls.seq_relationship.weight', 'cls.seq_relationship.bias', 'cls.predictions.transform.LayerNorm.weight', 'cls.predictions.transform.LayerNorm.bias']\n",
            "- This IS expected if you are initializing BertForTokenClassification from the checkpoint of a model trained on another task or with another architecture (e.g. initializing a BertForSequenceClassification model from a BertForPretraining model).\n",
            "- This IS NOT expected if you are initializing BertForTokenClassification from the checkpoint of a model that you expect to be exactly identical (initializing a BertForSequenceClassification model from a BertForSequenceClassification model).\n",
            "Some weights of BertForTokenClassification were not initialized from the model checkpoint at bert-base-uncased and are newly initialized: ['classifier.weight', 'classifier.bias']\n",
            "You should probably TRAIN this model on a down-stream task to be able to use it for predictions and inference.\n"
          ],
          "name": "stderr"
        },
        {
          "output_type": "display_data",
          "data": {
            "application/vnd.jupyter.widget-view+json": {
              "model_id": "cb66fc5c12f843e398a15b8102bf1226",
              "version_minor": 0,
              "version_major": 2
            },
            "text/plain": [
              "HBox(children=(FloatProgress(value=0.0, description='Downloading', max=231508.0, style=ProgressStyle(descripti…"
            ]
          },
          "metadata": {
            "tags": []
          }
        },
        {
          "output_type": "stream",
          "text": [
            "\n"
          ],
          "name": "stdout"
        }
      ]
    },
    {
      "cell_type": "code",
      "metadata": {
        "id": "A_8AvMyLAm70",
        "colab_type": "code",
        "colab": {
          "base_uri": "https://localhost:8080/",
          "height": 34
        },
        "outputId": "50f5aafe-0e12-4fa2-ad3e-b3fbfff21325"
      },
      "source": [
        "review_train_data = 'https://raw.githubusercontent.com/HSLCY/ABSA-BERT-pair/master/data/semeval2014/Restaurants_Train.xml'\n",
        "r = requests.get(review_train_data)\n",
        "open('train.xml', 'wb').write(r.content)"
      ],
      "execution_count": 5,
      "outputs": [
        {
          "output_type": "execute_result",
          "data": {
            "text/plain": [
              "1236939"
            ]
          },
          "metadata": {
            "tags": []
          },
          "execution_count": 5
        }
      ]
    },
    {
      "cell_type": "markdown",
      "metadata": {
        "id": "JJPOrZtZwADW",
        "colab_type": "text"
      },
      "source": [
        "now we need to extract all the relevant data from the xml sentences"
      ]
    },
    {
      "cell_type": "code",
      "metadata": {
        "id": "mBP4FAVBBqQp",
        "colab_type": "code",
        "colab": {}
      },
      "source": [
        "xml_doc = minidom.parse('train.xml')\n",
        "sentences_xml = xml_doc.getElementsByTagName('sentence')\n",
        "\n",
        "sentences = dict()\n",
        "aspect_terms = dict()\n",
        "\n",
        "for d in sentences_xml:\n",
        "  doc_id  = d.getAttribute('id')\n",
        "  doc_text = d.getElementsByTagName('text')[0].firstChild.nodeValue\n",
        "  sentences[doc_id] = doc_text\n",
        "\n",
        "  for aspect_term in d.getElementsByTagName('aspectTerm'):\n",
        "    if doc_id not in aspect_terms:\n",
        "      aspect_terms[doc_id] = list()\n",
        "\n",
        "    term = aspect_term.getAttribute('term')\n",
        "    sentiment = aspect_term.getAttribute('polarity')\n",
        "    from_idx = aspect_term.getAttribute('from')\n",
        "    to_idx = aspect_term.getAttribute('to')\n",
        "\n",
        "    aspect_terms[doc_id].append((term, sentiment, from_idx, to_idx))\n"
      ],
      "execution_count": 6,
      "outputs": []
    },
    {
      "cell_type": "code",
      "metadata": {
        "id": "5YrcroQ7ukx9",
        "colab_type": "code",
        "colab": {
          "base_uri": "https://localhost:8080/",
          "height": 51
        },
        "outputId": "7d92e36e-9bdb-4fa0-ddb0-df3ce80a2857"
      },
      "source": [
        "sample_doc_id = \"2818\"\n",
        "sample_sentence = sentences[sample_doc_id]\n",
        "print(sample_sentence)\n",
        "print(aspect_terms[sample_doc_id])"
      ],
      "execution_count": 7,
      "outputs": [
        {
          "output_type": "stream",
          "text": [
            "This was my frist time at Cafe St. Bart's and I must say how delicous the food and the service was.\n",
            "[('food', 'positive', '74', '78'), ('service', 'positive', '87', '94')]\n"
          ],
          "name": "stdout"
        }
      ]
    },
    {
      "cell_type": "markdown",
      "metadata": {
        "id": "9IHBgekGiV3B",
        "colab_type": "text"
      },
      "source": [
        "# Preprocessing "
      ]
    },
    {
      "cell_type": "code",
      "metadata": {
        "id": "uYbNu53dTgy-",
        "colab_type": "code",
        "colab": {}
      },
      "source": [
        "label_vocab = {\n",
        "    'O': 0,\n",
        "    'B-ASPECT-POS': 1,\n",
        "    'I-ASPECT-POS': 2,\n",
        "    'B-ASPECT-NEG': 3,\n",
        "    'I-ASPECT-NEG': 4,\n",
        "    'B-ASPECT-NEU': 5,\n",
        "    'I-ASPECT-NEU': 6,\n",
        "}\n",
        "\n",
        "def get_labels(tokenized_sentence, aspect_terms, label_vocab=label_vocab):\n",
        "  \"\"\"\n",
        "  Returns\n",
        "  ---\n",
        "  dict with format:\n",
        "    {\n",
        "      result_ids: [],\n",
        "      result_tags: []\n",
        "    }\n",
        "  \"\"\"\n",
        "  list_aspect_term = list(aspect_terms)\n",
        "  i = 0\n",
        "  j = 0\n",
        "  tokenized_sentence_ids = tokenized_sentence['input_ids']\n",
        "  if torch.is_tensor(tokenized_sentence_ids):\n",
        "    tokenized_sentence_ids = tokenized_sentence_ids.squeeze(0)\n",
        "  \n",
        "  tokenized_sentence_offset_mapping = tokenized_sentence['offset_mapping']\n",
        "  if torch.is_tensor(tokenized_sentence_offset_mapping):\n",
        "    tokenized_sentence_offset_mapping = tokenized_sentence_offset_mapping.squeeze(0)\n",
        "\n",
        "  result = dict(\n",
        "      result_ids=list(),\n",
        "      result_tags=list()\n",
        "  )\n",
        "  aspect_term = list_aspect_term[i]\n",
        "  is_begin_aspect = True\n",
        "  for j in range(len(tokenized_sentence_ids)):\n",
        "    offset_start, offset_end = tokenized_sentence_offset_mapping[j]\n",
        "\n",
        "    if j > 0 and j < len(tokenized_sentence_ids) and is_intersect_with(aspect_term, offset_start, offset_end):\n",
        "      polarity = get_polarity(aspect_term)\n",
        "      if is_begin_aspect:\n",
        "        result['result_ids'].append(label_vocab['B-ASPECT-' + polarity])\n",
        "        result['result_tags'].append('B-ASPECT-' + polarity)\n",
        "        is_begin_aspect = False\n",
        "      else:\n",
        "        result['result_ids'].append(label_vocab['I-ASPECT-' + polarity])\n",
        "        result['result_tags'].append('I-ASPECT-' + polarity)\n",
        "      \n",
        "      if i <= len(list_aspect_term) and should_go_to_next_aspect(aspect_term, offset_start, offset_end):\n",
        "        is_begin_aspect = True\n",
        "        i += 1\n",
        "    else:\n",
        "      result['result_ids'].append(label_vocab['O'])\n",
        "      result['result_tags'].append('O')\n",
        "\n",
        "  return result\n",
        "\n",
        "def is_intersect_with(aspect_term, offset_start, offset_end):\n",
        "  \"\"\"\n",
        "  utility function to determine if the offset has intersected\n",
        "  \"\"\"\n",
        "  aspect_start_idx = int(aspect_term[2])\n",
        "  aspect_end_idx = int(aspect_term[3])\n",
        "\n",
        "  return offset_start >= aspect_start_idx and offset_end <= aspect_end_idx\n",
        "\n",
        "def should_go_to_next_aspect(aspect_term, offset_start, offset_end):\n",
        "  aspect_start_idx = int(aspect_term[2])\n",
        "  aspect_end_idx = int(aspect_term[3])\n",
        "\n",
        "  return offset_end > aspect_end_idx\n",
        "\n",
        "def get_polarity(aspect_term):\n",
        "  \"\"\"\n",
        "  change polarity from `positive` or `negative` into `POS` `NEG` or `NEU`\n",
        "  \"\"\"\n",
        "  polarity = aspect_term[1]\n",
        "  if polarity == 'positive':\n",
        "    return 'POS'\n",
        "\n",
        "  if polarity == 'negative':\n",
        "    return 'NEG'\n",
        "\n",
        "  return 'NEU'\n",
        "\n",
        "def get_default_label(tokenized_sentence, label_vocab=label_vocab):\n",
        "  tokenized_sentence_ids = tokenized_sentence['input_ids']\n",
        "  if torch.is_tensor(tokenized_sentence_ids):\n",
        "    tokenized_sentence_ids = tokenized_sentence_ids.squeeze(0)\n",
        "\n",
        "  return dict(\n",
        "      result_ids=[label_vocab['O'] for _ in range(len(tokenized_sentence_ids))],\n",
        "      result_tags=['O' for _ in range(len(tokenized_sentence_ids))]\n",
        "  )"
      ],
      "execution_count": 8,
      "outputs": []
    },
    {
      "cell_type": "code",
      "metadata": {
        "id": "-ViyqtX7f9aJ",
        "colab_type": "code",
        "colab": {}
      },
      "source": [
        "inputs = list()\n",
        "labels = list()\n",
        "for sid in sentences:\n",
        "  tokenized = tokenizer(sentences[sid], return_offsets_mapping=True)\n",
        "  inputs.append(tokenized)\n",
        "  \n",
        "  label_sequence = get_default_label(tokenized)\n",
        "\n",
        "  if sid in aspect_terms:\n",
        "    aspect_term = aspect_terms[sid]\n",
        "    label_sequence = get_labels(tokenized, aspect_term) \n",
        "  labels.append(label_sequence)"
      ],
      "execution_count": 9,
      "outputs": []
    },
    {
      "cell_type": "code",
      "metadata": {
        "id": "fUrKe1eanv21",
        "colab_type": "code",
        "colab": {
          "base_uri": "https://localhost:8080/",
          "height": 51
        },
        "outputId": "ab1417bb-b044-4786-edd2-49e858cef9a0"
      },
      "source": [
        "sample_input_tensor = torch.tensor(inputs[0]['input_ids'])\n",
        "sample_output_tensor = bert_model(sample_input_tensor.reshape(1, -1))\n",
        "print(sample_output_tensor[0].shape)\n",
        "print(sample_input_tensor.shape)\n"
      ],
      "execution_count": 10,
      "outputs": [
        {
          "output_type": "stream",
          "text": [
            "torch.Size([1, 11, 2])\n",
            "torch.Size([11])\n"
          ],
          "name": "stdout"
        }
      ]
    },
    {
      "cell_type": "code",
      "metadata": {
        "id": "5ugberYYK5b_",
        "colab_type": "code",
        "colab": {}
      },
      "source": [
        "class AspectTermClassificationModel(nn.Module):\n",
        "  def __init__(self, bert_for_tok_classification, label_vocab: dict):\n",
        "    super().__init__()\n",
        "    self.real_model = bert_for_tok_classification\n",
        "    prev_classifier = self.real_model.classifier\n",
        "    self.real_model.classifier = nn.Linear(prev_classifier.in_features, len(label_vocab))\n",
        "  \n",
        "  def forward(self, X: torch.Tensor):\n",
        "    return self.real_model(X)\n"
      ],
      "execution_count": 11,
      "outputs": []
    },
    {
      "cell_type": "markdown",
      "metadata": {
        "id": "x7FxJ3nFhe-T",
        "colab_type": "text"
      },
      "source": [
        "before training, we should split between train and test data"
      ]
    },
    {
      "cell_type": "code",
      "metadata": {
        "id": "muan0CwhM6HP",
        "colab_type": "code",
        "colab": {
          "base_uri": "https://localhost:8080/",
          "height": 34
        },
        "outputId": "ec9f30c8-0567-44ac-dc0d-c5c65dfdc0a4"
      },
      "source": [
        "X_train, X_test, y_train, y_test = train_test_split(inputs, labels)\n",
        "\n",
        "binarizer = LabelBinarizer()\n",
        "binarizer.fit(list(label_vocab.values()))"
      ],
      "execution_count": 12,
      "outputs": [
        {
          "output_type": "execute_result",
          "data": {
            "text/plain": [
              "LabelBinarizer(neg_label=0, pos_label=1, sparse_output=False)"
            ]
          },
          "metadata": {
            "tags": []
          },
          "execution_count": 12
        }
      ]
    },
    {
      "cell_type": "code",
      "metadata": {
        "id": "6A_vRctaWphU",
        "colab_type": "code",
        "colab": {}
      },
      "source": [
        "device = 'cuda' if torch.cuda.is_available() else 'cpu'"
      ],
      "execution_count": 13,
      "outputs": []
    },
    {
      "cell_type": "code",
      "metadata": {
        "id": "EmWs5g6ff5vz",
        "colab_type": "code",
        "colab": {}
      },
      "source": [
        "model = AspectTermClassificationModel(bert_model, label_vocab).to(device)\n",
        "optimizer = torch.optim.Adam(model.parameters())\n",
        "criterion = nn.BCELoss()"
      ],
      "execution_count": 14,
      "outputs": []
    },
    {
      "cell_type": "markdown",
      "metadata": {
        "id": "SYDv1LwMhKj3",
        "colab_type": "text"
      },
      "source": [
        "We need to freeze BERT layer and will fine tune the `classifier` layer\n"
      ]
    },
    {
      "cell_type": "code",
      "metadata": {
        "id": "xlBALqQcf6v_",
        "colab_type": "code",
        "colab": {}
      },
      "source": [
        "for model_param in model.parameters():\n",
        "  model_param.requires_grad = False\n",
        "\n",
        "for model_param in model.real_model.classifier.parameters():\n",
        "  model_param.requires_grad = True"
      ],
      "execution_count": 15,
      "outputs": []
    },
    {
      "cell_type": "markdown",
      "metadata": {
        "id": "zkJq5oB6hWpg",
        "colab_type": "text"
      },
      "source": [
        "# Training the Model"
      ]
    },
    {
      "cell_type": "code",
      "metadata": {
        "id": "OSI4rA0zMq7q",
        "colab_type": "code",
        "colab": {
          "base_uri": "https://localhost:8080/",
          "height": 187
        },
        "outputId": "5c1c58ef-6e4c-4182-fd0b-005982f4cabe"
      },
      "source": [
        "import numpy as np\n",
        "\n",
        "epochs = 10\n",
        "\n",
        "losses = list()\n",
        "for epoch in range(epochs):\n",
        "  epoch_losses = list()\n",
        "\n",
        "  for x, y in tqdm(zip(X_train, y_train)):\n",
        "    optimizer.zero_grad()\n",
        "\n",
        "    logits = model(torch.tensor(x['input_ids']).to(device).reshape(1, -1))[0]\n",
        "    loss = criterion(F.softmax(logits.squeeze(0), dim=1), \n",
        "                     torch.tensor(binarizer.transform(y['result_ids'])).float().to(device))\n",
        "    \n",
        "    epoch_losses.append(loss.item())\n",
        "    loss.backward()\n",
        "    optimizer.step()\n",
        "\n",
        "  losses.append(np.mean(epoch_losses))\n"
      ],
      "execution_count": 16,
      "outputs": [
        {
          "output_type": "stream",
          "text": [
            "2283it [00:27, 83.24it/s]\n",
            "2283it [00:27, 83.49it/s]\n",
            "2283it [00:27, 84.09it/s]\n",
            "2283it [00:27, 83.58it/s]\n",
            "2283it [00:27, 84.09it/s]\n",
            "2283it [00:27, 84.36it/s]\n",
            "2283it [00:26, 85.00it/s]\n",
            "2283it [00:26, 85.81it/s]\n",
            "2283it [00:26, 84.76it/s]\n",
            "2283it [00:26, 84.73it/s]\n"
          ],
          "name": "stderr"
        }
      ]
    },
    {
      "cell_type": "code",
      "metadata": {
        "id": "v8tTyn6dXWCk",
        "colab_type": "code",
        "colab": {
          "base_uri": "https://localhost:8080/",
          "height": 282
        },
        "outputId": "96573a9a-5d91-46f5-a261-715cfd2d68ec"
      },
      "source": [
        "plt.plot(np.arange(epochs), losses)"
      ],
      "execution_count": 17,
      "outputs": [
        {
          "output_type": "execute_result",
          "data": {
            "text/plain": [
              "[<matplotlib.lines.Line2D at 0x7f133a469908>]"
            ]
          },
          "metadata": {
            "tags": []
          },
          "execution_count": 17
        },
        {
          "output_type": "display_data",
          "data": {
            "image/png": "[encoded data removed]",
            "text/plain": [
              "<Figure size 432x288 with 1 Axes>"
            ]
          },
          "metadata": {
            "tags": [],
            "needs_background": "light"
          }
        }
      ]
    },
    {
      "cell_type": "code",
      "metadata": {
        "id": "AUtTukzaXZWE",
        "colab_type": "code",
        "colab": {}
      },
      "source": [
        "def predict(model, x):\n",
        "  with torch.no_grad():\n",
        "    logits = model(torch.tensor(x['input_ids']).to(device).reshape(1, -1))[0]\n",
        "    return torch.argmax(F.softmax(logits, dim=2), dim=2)"
      ],
      "execution_count": 18,
      "outputs": []
    },
    {
      "cell_type": "code",
      "metadata": {
        "id": "GolBsJi8aXNS",
        "colab_type": "code",
        "colab": {
          "base_uri": "https://localhost:8080/",
          "height": 34
        },
        "outputId": "777edf09-ae99-4952-ca7a-43c9851f3f73"
      },
      "source": [
        "y_tensor = torch.tensor(y['result_ids']).to(device)\n",
        "y_pred = predict(model, x).squeeze(0)\n",
        "torch.sum( y_pred == y_tensor).double().div(y_tensor.shape[0])\n"
      ],
      "execution_count": 19,
      "outputs": [
        {
          "output_type": "execute_result",
          "data": {
            "text/plain": [
              "tensor(0.9688, device='cuda:0', dtype=torch.float64)"
            ]
          },
          "metadata": {
            "tags": []
          },
          "execution_count": 19
        }
      ]
    },
    {
      "cell_type": "code",
      "metadata": {
        "id": "kGcBnm2RhZzu",
        "colab_type": "code",
        "colab": {}
      },
      "source": [
        "inverse_label_vocab = {v: k for k, v in label_vocab.items()}\n",
        "\n",
        "def calculate_metrics(y_trues:list, y_preds:list, label_vocab: dict=label_vocab):\n",
        "  inverse_vocab = {v: k for k, v in label_vocab.items()}\n",
        "  metrics = {k: dict(correct=0, missed=0) for k in inverse_vocab}\n",
        "\n",
        "  for y_true, y_pred in zip(y_trues, y_preds):\n",
        "    for tok_true, tok_pred in zip(y_true, y_pred):\n",
        "      if tok_true == tok_pred:\n",
        "        metrics[tok_true]['correct'] += 1\n",
        "      else:\n",
        "        metrics[tok_true]['missed'] +=  1\n",
        "\n",
        "  return metrics\n",
        "\n",
        "def print_metrics(metrics, inverse_label_vocab: dict=inverse_label_vocab):\n",
        "  for m in metrics:\n",
        "    n_correct = metrics[m]['correct']\n",
        "    n_missed = metrics[m]['missed']\n",
        "    print('acc of {} = {:.1%}, correct: {}, missed: {}'.format(inverse_label_vocab[m], n_correct / float(n_correct + n_missed), n_correct, n_missed ))"
      ],
      "execution_count": 21,
      "outputs": []
    },
    {
      "cell_type": "code",
      "metadata": {
        "id": "F68A0mRMdkqv",
        "colab_type": "code",
        "colab": {
          "base_uri": "https://localhost:8080/",
          "height": 136
        },
        "outputId": "805d09b9-0308-4552-b339-97fbe672dd99"
      },
      "source": [
        "y_preds = list()\n",
        "y_trues = list()\n",
        "\n",
        "for x, y in tqdm(zip(X_train, y_train)):\n",
        "  y_pred = predict(model, x).squeeze(0).cpu().numpy()\n",
        "  y_preds.append(y_pred)\n",
        "  y_trues.append(y['result_ids'])\n",
        "  \n",
        "metrics = calculate_metrics(y_trues, y_preds)\n",
        "print_metrics(metrics)"
      ],
      "execution_count": 22,
      "outputs": [
        {
          "output_type": "stream",
          "text": [
            "acc of O = 99.4%, correct: 40531, missed: 263\n",
            "acc of B-ASPECT-POS = 69.0%, correct: 626, missed: 281\n",
            "acc of I-ASPECT-POS = 62.1%, correct: 512, missed: 313\n",
            "acc of B-ASPECT-NEG = 39.8%, correct: 132, missed: 200\n",
            "acc of I-ASPECT-NEG = 38.3%, correct: 64, missed: 103\n",
            "acc of B-ASPECT-NEU = 30.3%, correct: 91, missed: 209\n",
            "acc of I-ASPECT-NEU = 24.1%, correct: 51, missed: 161\n"
          ],
          "name": "stdout"
        }
      ]
    },
    {
      "cell_type": "code",
      "metadata": {
        "id": "agRUZnvakI4X",
        "colab_type": "code",
        "colab": {
          "base_uri": "https://localhost:8080/",
          "height": 153
        },
        "outputId": "f5e2528f-1226-467c-df61-23fab85e46fc"
      },
      "source": [
        "for x, y in tqdm(zip(X_test, y_test)):\n",
        "  y_pred = predict(model, x).squeeze(0).cpu().numpy()\n",
        "  y_preds.append(y_pred)\n",
        "  y_trues.append(y['result_ids'])\n",
        "\n",
        "metrics = calculate_metrics(y_trues, y_preds)\n",
        "print_metrics(metrics)"
      ],
      "execution_count": 24,
      "outputs": [
        {
          "output_type": "stream",
          "text": [
            "761it [00:08, 94.86it/s]\n"
          ],
          "name": "stderr"
        },
        {
          "output_type": "stream",
          "text": [
            "acc of O = 99.0%, correct: 66791, missed: 663\n",
            "acc of B-ASPECT-POS = 66.3%, correct: 1008, missed: 513\n",
            "acc of I-ASPECT-POS = 54.1%, correct: 726, missed: 615\n",
            "acc of B-ASPECT-NEG = 34.7%, correct: 188, missed: 354\n",
            "acc of I-ASPECT-NEG = 24.6%, correct: 78, missed: 239\n",
            "acc of B-ASPECT-NEU = 25.0%, correct: 111, missed: 333\n",
            "acc of I-ASPECT-NEU = 16.4%, correct: 53, missed: 271\n"
          ],
          "name": "stdout"
        }
      ]
    },
    {
      "cell_type": "markdown",
      "metadata": {
        "id": "p_PjnpENhsUO",
        "colab_type": "text"
      },
      "source": [
        "# Saving the model In Google Drive"
      ]
    },
    {
      "cell_type": "code",
      "metadata": {
        "id": "N07Wf8iFxaLL",
        "colab_type": "code",
        "colab": {
          "base_uri": "https://localhost:8080/",
          "height": 224
        },
        "outputId": "e4ac5558-e5b3-4108-e104-57d4f1803f51"
      },
      "source": [
        "!apt-get install -y -qq software-properties-common python-software-properties module-init-tools\n",
        "!add-apt-repository -y ppa:alessandro-strada/ppa 2>&1 > /dev/null\n",
        "!apt-get update -qq 2>&1 > /dev/null\n",
        "!apt-get -y install -qq google-drive-ocamlfuse fuse\n",
        "from google.colab import auth\n",
        "auth.authenticate_user()\n",
        "from oauth2client.client import GoogleCredentials\n",
        "creds = GoogleCredentials.get_application_default()\n",
        "import getpass\n",
        "!google-drive-ocamlfuse -headless -id={creds.client_id} -secret={creds.client_secret} < /dev/null 2>&1 | grep URL\n",
        "vcode = getpass.getpass()\n",
        "!echo {vcode} | google-drive-ocamlfuse -headless -id={creds.client_id} -secret={creds.client_secret}"
      ],
      "execution_count": null,
      "outputs": [
        {
          "output_type": "stream",
          "text": [
            "E: Package 'python-software-properties' has no installation candidate\n",
            "Selecting previously unselected package google-drive-ocamlfuse.\n",
            "(Reading database ... 144465 files and directories currently installed.)\n",
            "Preparing to unpack .../google-drive-ocamlfuse_0.7.22-0ubuntu3~ubuntu18.04.1_amd64.deb ...\n",
            "Unpacking google-drive-ocamlfuse (0.7.22-0ubuntu3~ubuntu18.04.1) ...\n",
            "Setting up google-drive-ocamlfuse (0.7.22-0ubuntu3~ubuntu18.04.1) ...\n",
            "Processing triggers for man-db (2.8.3-2ubuntu0.1) ...\n",
            "Please, open the following URL in a web browser: https://accounts.google.com/o/oauth2/auth?client_id=32555940559.apps.googleusercontent.com&redirect_uri=urn%3Aietf%3Awg%3Aoauth%3A2.0%3Aoob&scope=https%3A%2F%2Fwww.googleapis.com%2Fauth%2Fdrive&response_type=code&access_type=offline&approval_prompt=force\n",
            "··········\n",
            "Please, open the following URL in a web browser: https://accounts.google.com/o/oauth2/auth?client_id=32555940559.apps.googleusercontent.com&redirect_uri=urn%3Aietf%3Awg%3Aoauth%3A2.0%3Aoob&scope=https%3A%2F%2Fwww.googleapis.com%2Fauth%2Fdrive&response_type=code&access_type=offline&approval_prompt=force\n",
            "Please enter the verification code: Access token retrieved correctly.\n"
          ],
          "name": "stdout"
        }
      ]
    },
    {
      "cell_type": "code",
      "metadata": {
        "id": "N5l62xCrxv--",
        "colab_type": "code",
        "colab": {}
      },
      "source": [
        "!mkdir -p drive\n",
        "!google-drive-ocamlfuse drive"
      ],
      "execution_count": null,
      "outputs": []
    },
    {
      "cell_type": "code",
      "metadata": {
        "id": "bBkSTRhyxztJ",
        "colab_type": "code",
        "colab": {}
      },
      "source": [
        "!ls drive | grep app"
      ],
      "execution_count": null,
      "outputs": []
    },
    {
      "cell_type": "code",
      "metadata": {
        "id": "G9-g3tluvBaP",
        "colab_type": "code",
        "colab": {}
      },
      "source": [
        "torch.save(model.state_dict(), 'drive/absa.pth')"
      ],
      "execution_count": null,
      "outputs": []
    }
  ]
}