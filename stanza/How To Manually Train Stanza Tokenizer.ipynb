{
 "cells": [
  {
   "cell_type": "markdown",
   "metadata": {},
   "source": [
    "Stanza has provided a relatively easy [tutorial](https://github.com/stanfordnlp/stanza-train) to train it's pipeline. \n",
    "\n",
    "However, what if I wanted to train a pipeline, `tokenizer` in this case, by myself? \n",
    "\n",
    "Although using stanza is super easy, but the documentation has not explained about how do we train stanza pipelines' using our custom data. \n"
   ]
  },
  {
   "cell_type": "code",
   "execution_count": 1,
   "metadata": {},
   "outputs": [
    {
     "name": "stdout",
     "output_type": "stream",
     "text": [
      "stanza                 1.1.1\n"
     ]
    }
   ],
   "source": [
    "!pip list | grep stanza"
   ]
  },
  {
   "cell_type": "markdown",
   "metadata": {},
   "source": [
    "Here I will show how to manually train stanza tokenizer model in Khmer language, which does not have any token/word separators (see [khmertimeskh.com](https://www.khmertimeskh.com/category/khmer/) for example). \n",
    "\n",
    "The khmer data will be taken from [Asian Language Treebank Project](https://www2.nict.go.jp/astrec-att/member/mutiyama/ALT/), conducted by NICT and UCSY.\n",
    "\n",
    "sample data:\n",
    "```\n",
    "SNT.80188.1\tអ៊ីតាលី បាន ឈ្នះ លើ ព័រទុយហ្គាល់ 31-5 ក្នុង ប៉ូល C នៃ ពិធី ប្រកួត ពាន រង្វាន់ ពិភព លោក នៃ កីឡា បាល់ ឱប ឆ្នាំ 2007 ដែល ប្រព្រឹត្ត នៅ ប៉ាស ឌេស ប្រីន ក្រុង ប៉ារីស បារាំង ។\n",
    "SNT.80188.2\tអេនត្រា ម៉ាស៊ី បាន ស៊ុត ចូល ក្នុង នាទី ទី បួន គ្រា ដំបូង នៃ ពាក់ កណ្តាល សំរាប់ អ៊ីតាលី ។\n",
    "```\n",
    "\n",
    "\n",
    "The data has been seperated by spaces to indicate a token in Khmer, so we should use that as our label"
   ]
  },
  {
   "cell_type": "code",
   "execution_count": 2,
   "metadata": {},
   "outputs": [],
   "source": [
    "docs = list()\n",
    "with open('data/km-nova-181101/data_km.km-tok.nova', encoding='utf-8') as f:\n",
    "    for sentence in f:\n",
    "        doc_id, doc = sentence.split('\\t')\n",
    "        docs.append((doc_id, doc))"
   ]
  },
  {
   "cell_type": "code",
   "execution_count": 3,
   "metadata": {},
   "outputs": [],
   "source": [
    "from stanza.models.tokenize.trainer import Trainer\n",
    "from stanza.models.tokenize.data import DataLoader\n",
    "from stanza.models.common.doc import Document\n",
    "from stanza.models.tokenize.utils import output_predictions"
   ]
  },
  {
   "cell_type": "code",
   "execution_count": 4,
   "metadata": {},
   "outputs": [],
   "source": [
    "feat_funcs = ['space_before']\n",
    "batch_size = 10\n",
    "\n",
    "train_batch = DataLoader(\n",
    "    dict(\n",
    "        batch_size=batch_size,\n",
    "        lang='km',\n",
    "        feat_funcs=feat_funcs,\n",
    "        feat_dim=len(feat_funcs),\n",
    "        max_seqlen=300), \n",
    "    input_text='\\n'.join([docs[i][1] for i in range(len(docs[:50]))]))"
   ]
  },
  {
   "cell_type": "markdown",
   "metadata": {},
   "source": [
    "Stanza tokenizer model will try to predict **each character** into 4 classes:\n",
    "```\n",
    "0 = usual character, no separation needed\n",
    "1 = end of token\n",
    "2 = end of sentence\n",
    "3 = end of mwt\n",
    "```\n",
    "\n",
    "And we will be looking to use `1` as our label for each space, but we won't be needing the spaces"
   ]
  },
  {
   "cell_type": "code",
   "execution_count": 5,
   "metadata": {},
   "outputs": [],
   "source": [
    "def update_sentences(paragraphs: list) -> list:\n",
    "    \"\"\"\n",
    "    modify sentences in km language using format (char_id, label, feature, original_char).\n",
    "    Since km is a language without spaces, we wanted to label `1` for denoting that it should be separated up to that point\n",
    "     \"\"\"\n",
    "    new_paragraphs = list()\n",
    "    for paragraph_id, paragraph in enumerate(paragraphs):\n",
    "        new_paragraphs.append(list())\n",
    "        for sentence_id, sentence in enumerate(paragraph):\n",
    "            new_paragraphs[paragraph_id].append(list())\n",
    "            \n",
    "            for char_id, label, feature, char in sentence:\n",
    "                if char == ' ':\n",
    "                    prev_row = new_paragraphs[paragraph_id][sentence_id][-1]\n",
    "                    new_paragraphs[paragraph_id][sentence_id][-1] = (prev_row[0], 1, [], prev_row[3])\n",
    "                else:\n",
    "                    new_paragraphs[paragraph_id][sentence_id].append((char_id, feature[0], [], char))\n",
    "    return new_paragraphs"
   ]
  },
  {
   "cell_type": "code",
   "execution_count": 6,
   "metadata": {},
   "outputs": [],
   "source": [
    "train_batch.sentences = update_sentences(train_batch.sentences)"
   ]
  },
  {
   "cell_type": "markdown",
   "metadata": {},
   "source": [
    "After sometime digging, These are some minimum training args. Most of the args is the default values that I can find, except `unit_dropout`, `dropout`, and `learning rate`."
   ]
  },
  {
   "cell_type": "code",
   "execution_count": 7,
   "metadata": {},
   "outputs": [],
   "source": [
    "use_cuda = True\n",
    "# feature function\n",
    "feat_funcs = []\n",
    "\n",
    "train_args = dict(\n",
    "    emb_dim=32,\n",
    "    hidden_dim=64,\n",
    "    conv_filters='1,9',\n",
    "    residual=True,\n",
    "    hierarchical=False,\n",
    "    hier_invtemp=0.5,\n",
    "    input_dropout=True,\n",
    "    conv_res=None,\n",
    "    rnn_layers=1,\n",
    "    max_grad_norm=1.0,\n",
    "    anneal=.999,\n",
    "    anneal_after=2000,\n",
    "    lr0=1e-3,\n",
    "    dropout=0.20,\n",
    "    unit_dropout=0.20,\n",
    "    feat_dim=len(feat_funcs),\n",
    "    tok_noise=0.02,\n",
    "    weight_decay=0.0,\n",
    "    lang='km'\n",
    ")"
   ]
  },
  {
   "cell_type": "code",
   "execution_count": 8,
   "metadata": {},
   "outputs": [],
   "source": [
    "vocab = train_batch.vocab\n",
    "train_args['vocab_size'] = vocab.size"
   ]
  },
  {
   "cell_type": "code",
   "execution_count": 9,
   "metadata": {},
   "outputs": [],
   "source": [
    "trainer = Trainer(args=train_args, vocab=vocab, use_cuda=use_cuda)"
   ]
  },
  {
   "cell_type": "code",
   "execution_count": 10,
   "metadata": {},
   "outputs": [],
   "source": [
    "from tqdm.notebook import tqdm_notebook"
   ]
  },
  {
   "cell_type": "code",
   "execution_count": 11,
   "metadata": {},
   "outputs": [
    {
     "data": {
      "application/vnd.jupyter.widget-view+json": {
       "model_id": "141867f7995a438484f20bade9f60ce4",
       "version_major": 2,
       "version_minor": 0
      },
      "text/plain": [
       "HBox(children=(FloatProgress(value=0.0, max=941.0), HTML(value='')))"
      ]
     },
     "metadata": {},
     "output_type": "display_data"
    },
    {
     "name": "stdout",
     "output_type": "stream",
     "text": [
      "\n"
     ]
    }
   ],
   "source": [
    "N = len(train_batch)\n",
    "epoch = 200\n",
    "losses = list()\n",
    "for step in tqdm_notebook(range(int(N * epoch / batch_size) + 1)):\n",
    "    batch = train_batch.next(unit_dropout=train_args['unit_dropout'])\n",
    "    loss = trainer.update(batch)\n",
    "    losses.append(loss)"
   ]
  },
  {
   "cell_type": "code",
   "execution_count": 12,
   "metadata": {},
   "outputs": [],
   "source": [
    "import matplotlib.pyplot as plt\n",
    "import numpy as np\n",
    "%matplotlib inline"
   ]
  },
  {
   "cell_type": "code",
   "execution_count": 13,
   "metadata": {},
   "outputs": [
    {
     "data": {
      "image/png": "[encoded data removed]",
      "text/plain": [
       "<Figure size 432x288 with 1 Axes>"
      ]
     },
     "metadata": {
      "needs_background": "light"
     },
     "output_type": "display_data"
    }
   ],
   "source": [
    "plt.plot(np.arange(len(losses)), losses)\n",
    "plt.show()"
   ]
  },
  {
   "cell_type": "code",
   "execution_count": 14,
   "metadata": {},
   "outputs": [],
   "source": [
    "from stanza.models.tokenize.utils import output_predictions"
   ]
  },
  {
   "cell_type": "code",
   "execution_count": 15,
   "metadata": {},
   "outputs": [],
   "source": [
    "trainer.args['batch_size'] = batch_size\n",
    "trainer.args['shorthand'] = 'km'"
   ]
  },
  {
   "cell_type": "code",
   "execution_count": 16,
   "metadata": {},
   "outputs": [],
   "source": [
    "n_test_doc = 10\n",
    "test_text = '\\n\\n'.join([docs[i][1].replace(' ', '').replace('\\n', '') for i in range(n_test_doc)])"
   ]
  },
  {
   "cell_type": "code",
   "execution_count": 18,
   "metadata": {},
   "outputs": [],
   "source": [
    "batch_size = n_test_doc\n",
    "\n",
    "test_batch = DataLoader(\n",
    "    dict(\n",
    "        batch_size=batch_size,\n",
    "        lang='km',\n",
    "        feat_funcs=feat_funcs,\n",
    "        feat_dim=len(feat_funcs),\n",
    "        max_seqlen=300), \n",
    "    input_text=test_text,\n",
    "    # we should make sure we pass the vocab used in train dataloader\n",
    "    # otherwise the parser will output strange result\n",
    "    vocab=vocab)"
   ]
  },
  {
   "cell_type": "code",
   "execution_count": 19,
   "metadata": {},
   "outputs": [],
   "source": [
    "_, _, _, doc = output_predictions(None, trainer, test_batch, vocab, None, 300, None, False)"
   ]
  },
  {
   "cell_type": "code",
   "execution_count": 20,
   "metadata": {},
   "outputs": [
    {
     "data": {
      "text/plain": [
       "'អ៊ីតាលី បាន ឈ្នះ លើ ព័រទុយហ្គាល់ 31-5 ក្នុង ប៉ូល C នៃ ពិធី ប្រកួត ពាន រង្វាន់ ពិភព លោក នៃ កីឡា បាល់ ឱប ឆ្នាំ 2007 ដែល ប្រព្រឹត្ត នៅ ប៉ាស ឌេស ប្រីន ក្រុង ប៉ារីស បារាំង ។'"
      ]
     },
     "execution_count": 20,
     "metadata": {},
     "output_type": "execute_result"
    }
   ],
   "source": [
    "' '.join([d['text'] for d in doc[0]])"
   ]
  },
  {
   "cell_type": "markdown",
   "metadata": {},
   "source": [
    "It does seems that our tokenizer for km has worked!\n",
    "\n",
    "I have tried to overfit the tokenizer model and feed the training data back to test data, just to verify if the model can correctly identify the data that it have seen before continuing to train for general language itself."
   ]
  },
  {
   "cell_type": "markdown",
   "metadata": {},
   "source": [
    "# Using Trained Model in Stanza Pipeline\n"
   ]
  },
  {
   "cell_type": "code",
   "execution_count": 48,
   "metadata": {},
   "outputs": [],
   "source": [
    "trainer.args['feat_funcs'] = []\n",
    "trainer.args['max_seqlen'] = 300"
   ]
  },
  {
   "cell_type": "code",
   "execution_count": 49,
   "metadata": {},
   "outputs": [
    {
     "name": "stderr",
     "output_type": "stream",
     "text": [
      "2020-12-15 09:44:53 INFO: Model saved to .model/km_models/km_tokenizer_model.pt\n"
     ]
    }
   ],
   "source": [
    "model_path = '.model/km_models/km_tokenizer_model.pt'\n",
    "trainer.save(model_path)"
   ]
  },
  {
   "cell_type": "code",
   "execution_count": 50,
   "metadata": {},
   "outputs": [],
   "source": [
    "import stanza"
   ]
  },
  {
   "cell_type": "code",
   "execution_count": 51,
   "metadata": {},
   "outputs": [
    {
     "name": "stderr",
     "output_type": "stream",
     "text": [
      "2020-12-15 09:44:53 INFO: Loading these models for language: km (Khmer):\n",
      "=======================================\n",
      "| Processor | Package                 |\n",
      "---------------------------------------\n",
      "| tokenize  | .model/km_...r_model.pt |\n",
      "=======================================\n",
      "\n",
      "2020-12-15 09:44:53 INFO: Use device: gpu\n",
      "2020-12-15 09:44:53 INFO: Loading: tokenize\n",
      "2020-12-15 09:44:53 INFO: Done loading processors!\n"
     ]
    }
   ],
   "source": [
    "tokenizer = stanza.Pipeline(\n",
    "    lang='km', \n",
    "    processors='tokenize', \n",
    "    dir='.model/km_models',\n",
    "    tokenize_model_path=model_path,\n",
    "    use_gpu=True)"
   ]
  },
  {
   "cell_type": "code",
   "execution_count": 52,
   "metadata": {},
   "outputs": [],
   "source": [
    "doc = tokenizer('អ៊ីតាលីបានឈ្នះលើព័រទុយហ្គាល់31-5ក្នុងប៉ូលCនៃពិធីប្រកួតពានរង្វាន់ពិភពលោកនៃកីឡាបាល់ឱបឆ្នាំ2007ដែលប្រព្រឹត្តនៅប៉ាសឌេសប្រីនក្រុងប៉ារីសបារាំង។')"
   ]
  },
  {
   "cell_type": "code",
   "execution_count": 71,
   "metadata": {},
   "outputs": [
    {
     "name": "stdout",
     "output_type": "stream",
     "text": [
      "អ៊ីតាលី | បាន | ឈ្នះ | លើ | ព័រទុយហ្គាល់ | 31-5 | ក្នុង | ប៉ូល | C | នៃ | ពិធី | ប្រកួត | ពាន | រង្វាន់ | ពិភព | លោក | នៃ | កីឡា | បាល់ | ឱប | ឆ្នាំ | 2007 | ដែល | ប្រព្រឹត្ត | នៅ | ប៉ាស | ឌេស | ប្រីន | ក្រុង | ប៉ារីស | បារាំ | ង | ។ | "
     ]
    }
   ],
   "source": [
    "for paragraph in doc.sentences:\n",
    "    for token in paragraph.tokens:\n",
    "        print(token.text, end=' | ')"
   ]
  }
 ],
 "metadata": {
  "kernelspec": {
   "display_name": "Python 3",
   "language": "python",
   "name": "python3"
  },
  "language_info": {
   "codemirror_mode": {
    "name": "ipython",
    "version": 3
   },
   "file_extension": ".py",
   "mimetype": "text/x-python",
   "name": "python",
   "nbconvert_exporter": "python",
   "pygments_lexer": "ipython3",
   "version": "3.7.9"
  }
 },
 "nbformat": 4,
 "nbformat_minor": 4
}
