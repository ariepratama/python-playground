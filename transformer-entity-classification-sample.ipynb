{
 "cells": [
  {
   "cell_type": "code",
   "execution_count": 1,
   "id": "e8d1db59-0541-4936-9a07-e80224d6268c",
   "metadata": {},
   "outputs": [],
   "source": [
    "from datasets import load_dataset\n",
    "import random"
   ]
  },
  {
   "cell_type": "code",
   "execution_count": 2,
   "id": "bcd8dd3f-6e93-41eb-ba68-776d1c9fbe9e",
   "metadata": {},
   "outputs": [],
   "source": [
    "# take only 1000 sample from train\n",
    "data = load_dataset(\"simple_questions_v2\", split=\"train[:1000]\")"
   ]
  },
  {
   "cell_type": "code",
   "execution_count": 3,
   "id": "067525c2-4322-418b-9aee-84ee3f58ea56",
   "metadata": {},
   "outputs": [],
   "source": [
    "# take only 1000 sample from train\n",
    "valid = load_dataset(\"simple_questions_v2\", split=\"test[:1000]\")"
   ]
  },
  {
   "cell_type": "code",
   "execution_count": 4,
   "id": "8753c9a0-a920-4c01-bbd2-2aa03a31e29e",
   "metadata": {},
   "outputs": [
    {
     "data": {
      "text/plain": [
       "{'id': '9',\n",
       " 'subject_entity': 'www.freebase.com/m/0mgb6cl',\n",
       " 'relationship': 'www.freebase.com/music/release_track/release',\n",
       " 'object_entity': 'www.freebase.com/m/0f4zk3j',\n",
       " 'question': 'What album was tibet released on\\n'}"
      ]
     },
     "execution_count": 4,
     "metadata": {},
     "output_type": "execute_result"
    }
   ],
   "source": [
    "i = random.randint(0, 899)\n",
    "data[i]"
   ]
  },
  {
   "cell_type": "code",
   "execution_count": 5,
   "id": "5eb66d66-52bf-4353-aa7b-30afce3e9c8b",
   "metadata": {},
   "outputs": [],
   "source": [
    "from transformers import AutoTokenizer"
   ]
  },
  {
   "cell_type": "code",
   "execution_count": 6,
   "id": "eb3b8e60-ead4-4997-8bf6-e0076e82f1e7",
   "metadata": {},
   "outputs": [],
   "source": [
    "tokenizer = AutoTokenizer.from_pretrained(\"distilbert-base-uncased\")"
   ]
  },
  {
   "cell_type": "code",
   "execution_count": 7,
   "id": "e78f56f9-be59-4a7f-9d21-56b5a3fbebec",
   "metadata": {},
   "outputs": [],
   "source": [
    "import json"
   ]
  },
  {
   "cell_type": "code",
   "execution_count": 8,
   "id": "57530f9b-1827-41ec-beae-04e08fc83866",
   "metadata": {},
   "outputs": [],
   "source": [
    "with open(\"simple_questions_v2_freebase_simple_mapping.json\", \"r\") as f:\n",
    "    freebase_mappings = json.load(f)"
   ]
  },
  {
   "cell_type": "code",
   "execution_count": 63,
   "id": "ea775da4-5a63-4b5d-b181-9449434e854d",
   "metadata": {},
   "outputs": [],
   "source": [
    "def tokenize_relationship(relationship: str) -> str:\n",
    "    rel = relationship.split(\"/\")[1:]\n",
    "    rel = \" \".join(rel)\n",
    "    rel = rel.replace(\"_\", \" \")\n",
    "    rel = rel.replace(\"-\", \" \")\n",
    "    return rel\n",
    "\n",
    "def map_entity(entity: str, mapping: dict) -> str:\n",
    "    entity = \"/\" + \"/\".join(entity.split(\"/\")[1:])\n",
    "    if entity not in mapping:\n",
    "        return \"unknown\"\n",
    "\n",
    "    return mapping[entity]\n",
    "\n",
    "def to_sentence(sbj_entity: str, rel: str, obj_entity: str, freebase_mappings: dict) -> str:\n",
    "    sbj_str = map_entity(sbj_entity, freebase_mappings)\n",
    "    rel_str = tokenize_relationship(rel)\n",
    "    obj_str = map_entity(obj_entity, freebase_mappings)\n",
    "    \n",
    "    return f\"{sbj_str} {rel_str} {obj_str}\"\n",
    "\n",
    "class Mapper:\n",
    "    def __init__(self, entities: list):\n",
    "        self.unk_label = \"UNK\"\n",
    "        self.unk_id = -1\n",
    "        self.entity_to_id_map = {e: i for i, e in enumerate(entities)}\n",
    "        self.id_to_entity_map = {i: e for e, i in self.entity_to_id_map.items()}\n",
    "        self.entity_to_id_map[self.unk_label] = self.unk_id\n",
    "        self.id_to_entity_map[-1] = self.unk_label\n",
    "        \n",
    "    def to_id(self, entity: str) -> int:\n",
    "        if entity not in self.entity_to_id_map:\n",
    "            return self.unk_id\n",
    "        return self.entity_to_id_map[entity]\n",
    "\n",
    "    def to_entity(self, id: int) -> int:\n",
    "        if id not in self.id_to_entity_map:\n",
    "            return self.unk_label\n",
    "\n",
    "        return self.id_to_entity_map[id]\n",
    "    \n",
    "mapper = Mapper(freebase_mappings.keys())\n",
    "\n",
    "def preprocess(batch):\n",
    "    # 1. map entities to labels\n",
    "    # 2. \n",
    "\n",
    "    # batched_sents = []\n",
    "    # for datum in batch:\n",
    "    #     sent = to_sentence(datum[\"subject_entity\"], datum[\"relationship\"], datum[\"object_entity\"], freebase_mappings)\n",
    "    #     batched_sents.append(sent)\n",
    "    \n",
    "    subject_entity = batch[\"subject_entity\"]\n",
    "    question = batch[\"question\"]\n",
    "    tokenized = tokenizer(text=question, truncation=True)\n",
    "\n",
    "    input_ids = tokenized[\"input_ids\"]\n",
    "    attention_mask = tokenized[\"attention_mask\"]\n",
    "\n",
    "    subject_entity = [\"/\" + \"/\".join(e.split(\"/\")[1:]) for e in subject_entity]\n",
    "    \n",
    "    mapped_subject_entity = [mapper.to_id(e) for e in subject_entity]\n",
    "\n",
    "    return {\n",
    "        \"input_ids\": input_ids,\n",
    "        \"attention_mask\": attention_mask,\n",
    "        \"labels\": mapped_subject_entity,\n",
    "    }"
   ]
  },
  {
   "cell_type": "code",
   "execution_count": 64,
   "id": "0556aa2e-d3b2-407a-8147-a3a656baa1de",
   "metadata": {},
   "outputs": [
    {
     "data": {
      "text/plain": [
       "1"
      ]
     },
     "execution_count": 64,
     "metadata": {},
     "output_type": "execute_result"
    }
   ],
   "source": [
    "mapper.to_id(\"/m/04j2svn\")"
   ]
  },
  {
   "cell_type": "code",
   "execution_count": 65,
   "id": "359c3819-569d-4cfe-aa57-cfe4992f8bec",
   "metadata": {},
   "outputs": [
    {
     "data": {
      "text/plain": [
       "'/m/04j2svn'"
      ]
     },
     "execution_count": 65,
     "metadata": {},
     "output_type": "execute_result"
    }
   ],
   "source": [
    "mapper.to_entity(1)"
   ]
  },
  {
   "cell_type": "code",
   "execution_count": 66,
   "id": "18fc341f-c5be-4f48-9e66-9dcc73eaf13e",
   "metadata": {},
   "outputs": [
    {
     "data": {
      "application/vnd.jupyter.widget-view+json": {
       "model_id": "60749af6d6cf4eda831ae410a677de2c",
       "version_major": 2,
       "version_minor": 0
      },
      "text/plain": [
       "Map:   0%|          | 0/1000 [00:00<?, ? examples/s]"
      ]
     },
     "metadata": {},
     "output_type": "display_data"
    }
   ],
   "source": [
    "preprocessed_data = data.map(\n",
    "    preprocess, \n",
    "    batched=True, \n",
    "    batch_size=4)"
   ]
  },
  {
   "cell_type": "code",
   "execution_count": 67,
   "id": "d838e5a9-3ca9-4288-b6a3-122dbc3c1a8c",
   "metadata": {},
   "outputs": [
    {
     "data": {
      "text/plain": [
       "{'id': '13',\n",
       " 'subject_entity': 'www.freebase.com/m/0hzqmtk',\n",
       " 'relationship': 'www.freebase.com/film/film/language',\n",
       " 'object_entity': 'www.freebase.com/m/03k50',\n",
       " 'question': 'what is the language in which mera shikar was filmed in\\n',\n",
       " 'input_ids': [101,\n",
       "  2054,\n",
       "  2003,\n",
       "  1996,\n",
       "  2653,\n",
       "  1999,\n",
       "  2029,\n",
       "  21442,\n",
       "  2050,\n",
       "  11895,\n",
       "  6673,\n",
       "  2001,\n",
       "  6361,\n",
       "  1999,\n",
       "  102],\n",
       " 'attention_mask': [1, 1, 1, 1, 1, 1, 1, 1, 1, 1, 1, 1, 1, 1, 1],\n",
       " 'labels': 58101}"
      ]
     },
     "execution_count": 67,
     "metadata": {},
     "output_type": "execute_result"
    }
   ],
   "source": [
    "preprocessed_data[13]"
   ]
  },
  {
   "cell_type": "code",
   "execution_count": 68,
   "id": "ed18d8c1-48c0-4def-9fa7-1b09cb394a0a",
   "metadata": {},
   "outputs": [
    {
     "data": {
      "application/vnd.jupyter.widget-view+json": {
       "model_id": "9563452bb5b24f4b96964ece07b21cba",
       "version_major": 2,
       "version_minor": 0
      },
      "text/plain": [
       "Map:   0%|          | 0/1000 [00:00<?, ? examples/s]"
      ]
     },
     "metadata": {},
     "output_type": "display_data"
    }
   ],
   "source": [
    "cleaned_data = preprocessed_data.map(\n",
    "    lambda batch: batch, \n",
    "    batched=True, \n",
    "    batch_size=4, \n",
    "    remove_columns=[\n",
    "        \"id\",\n",
    "        \"subject_entity\",\n",
    "        \"relationship\",\n",
    "        \"object_entity\",\n",
    "        \"question\"\n",
    "    ])"
   ]
  },
  {
   "cell_type": "code",
   "execution_count": 69,
   "id": "0c9889d6-1769-4f03-bd34-47af31ece2e3",
   "metadata": {},
   "outputs": [
    {
     "data": {
      "text/plain": [
       "{'input_ids': [101,\n",
       "  2054,\n",
       "  2003,\n",
       "  1996,\n",
       "  2653,\n",
       "  1999,\n",
       "  2029,\n",
       "  21442,\n",
       "  2050,\n",
       "  11895,\n",
       "  6673,\n",
       "  2001,\n",
       "  6361,\n",
       "  1999,\n",
       "  102],\n",
       " 'attention_mask': [1, 1, 1, 1, 1, 1, 1, 1, 1, 1, 1, 1, 1, 1, 1],\n",
       " 'labels': 58101}"
      ]
     },
     "execution_count": 69,
     "metadata": {},
     "output_type": "execute_result"
    }
   ],
   "source": [
    "cleaned_data[13]"
   ]
  },
  {
   "cell_type": "code",
   "execution_count": 70,
   "id": "4f65bbdd-7b9f-4de5-81cd-6eb4ff8ef8cb",
   "metadata": {},
   "outputs": [],
   "source": [
    "import evaluate\n",
    "\n",
    "accuracy = evaluate.load(\"accuracy\")"
   ]
  },
  {
   "cell_type": "code",
   "execution_count": 71,
   "id": "19f3ce7d-aa9b-4e7e-a27f-ddd510ab2fc5",
   "metadata": {},
   "outputs": [],
   "source": [
    "import numpy as np\n",
    "\n",
    "\n",
    "def compute_metrics(eval_pred):\n",
    "    predictions, labels = eval_pred\n",
    "    predictions = np.argmax(predictions, axis=1)\n",
    "    return accuracy.compute(predictions=predictions, references=labels)"
   ]
  },
  {
   "cell_type": "code",
   "execution_count": 73,
   "id": "84964361-65f9-436e-b55f-5d11fdf88454",
   "metadata": {},
   "outputs": [
    {
     "name": "stderr",
     "output_type": "stream",
     "text": [
      "Some weights of DistilBertForSequenceClassification were not initialized from the model checkpoint at distilbert-base-uncased and are newly initialized: ['pre_classifier.bias', 'classifier.weight', 'pre_classifier.weight', 'classifier.bias']\n",
      "You should probably TRAIN this model on a down-stream task to be able to use it for predictions and inference.\n"
     ]
    }
   ],
   "source": [
    "from transformers import AutoModelForSequenceClassification, TrainingArguments, Trainer, DataCollatorWithPadding\n",
    "\n",
    "model = AutoModelForSequenceClassification.from_pretrained(\n",
    "    \"distilbert-base-uncased\",\n",
    "    num_labels=len(freebase_mappings) + 1,\n",
    "    id2label=mapper.entity_to_id_map,\n",
    "    label2id=mapper.id_to_entity_map\n",
    ")"
   ]
  },
  {
   "cell_type": "code",
   "execution_count": 74,
   "id": "10fdcda5-63ad-4354-8735-e1c1bb8ac188",
   "metadata": {},
   "outputs": [
    {
     "data": {
      "text/html": [
       "\n",
       "    <div>\n",
       "      \n",
       "      <progress value='315' max='315' style='width:300px; height:20px; vertical-align: middle;'></progress>\n",
       "      [315/315 01:34, Epoch 5/5]\n",
       "    </div>\n",
       "    <table border=\"1\" class=\"dataframe\">\n",
       "  <thead>\n",
       " <tr style=\"text-align: left;\">\n",
       "      <th>Epoch</th>\n",
       "      <th>Training Loss</th>\n",
       "      <th>Validation Loss</th>\n",
       "      <th>Accuracy</th>\n",
       "    </tr>\n",
       "  </thead>\n",
       "  <tbody>\n",
       "    <tr>\n",
       "      <td>1</td>\n",
       "      <td>No log</td>\n",
       "      <td>7.425558</td>\n",
       "      <td>0.002000</td>\n",
       "    </tr>\n",
       "    <tr>\n",
       "      <td>2</td>\n",
       "      <td>No log</td>\n",
       "      <td>6.910871</td>\n",
       "      <td>0.007000</td>\n",
       "    </tr>\n",
       "    <tr>\n",
       "      <td>3</td>\n",
       "      <td>No log</td>\n",
       "      <td>6.258064</td>\n",
       "      <td>0.007000</td>\n",
       "    </tr>\n",
       "    <tr>\n",
       "      <td>4</td>\n",
       "      <td>No log</td>\n",
       "      <td>5.734398</td>\n",
       "      <td>0.006000</td>\n",
       "    </tr>\n",
       "    <tr>\n",
       "      <td>5</td>\n",
       "      <td>No log</td>\n",
       "      <td>5.552683</td>\n",
       "      <td>0.007000</td>\n",
       "    </tr>\n",
       "  </tbody>\n",
       "</table><p>"
      ],
      "text/plain": [
       "<IPython.core.display.HTML object>"
      ]
     },
     "metadata": {},
     "output_type": "display_data"
    },
    {
     "data": {
      "text/plain": [
       "TrainOutput(global_step=315, training_loss=6.650751023065476, metrics={'train_runtime': 96.0358, 'train_samples_per_second': 52.064, 'train_steps_per_second': 3.28, 'total_flos': 46494741949632.0, 'train_loss': 6.650751023065476, 'epoch': 5.0})"
      ]
     },
     "execution_count": 74,
     "metadata": {},
     "output_type": "execute_result"
    }
   ],
   "source": [
    "training_args = TrainingArguments(\n",
    "    output_dir=\"test_sbj_enty_class\",\n",
    "    evaluation_strategy=\"epoch\",\n",
    "    save_strategy=\"epoch\",\n",
    "    load_best_model_at_end=True,\n",
    "    learning_rate=5e-5,\n",
    "    per_device_train_batch_size=16,\n",
    "    per_device_eval_batch_size=16,\n",
    "    num_train_epochs=5,\n",
    "    weight_decay=0.01,\n",
    "    push_to_hub=False,\n",
    ")\n",
    "\n",
    "trainer = Trainer(\n",
    "    model=model,\n",
    "    args=training_args,\n",
    "    train_dataset=cleaned_data,\n",
    "    eval_dataset=cleaned_data,\n",
    "    tokenizer=tokenizer,\n",
    "    data_collator=DataCollatorWithPadding(tokenizer=tokenizer),\n",
    "    compute_metrics=compute_metrics,\n",
    ")\n",
    "\n",
    "trainer.train()"
   ]
  },
  {
   "cell_type": "code",
   "execution_count": null,
   "id": "190ce6c6-e98e-47ac-91d0-867aa6f76f26",
   "metadata": {},
   "outputs": [],
   "source": []
  }
 ],
 "metadata": {
  "kernelspec": {
   "display_name": "Python 3 (ipykernel)",
   "language": "python",
   "name": "python3"
  },
  "language_info": {
   "codemirror_mode": {
    "name": "ipython",
    "version": 3
   },
   "file_extension": ".py",
   "mimetype": "text/x-python",
   "name": "python",
   "nbconvert_exporter": "python",
   "pygments_lexer": "ipython3",
   "version": "3.11.5"
  }
 },
 "nbformat": 4,
 "nbformat_minor": 5
}
